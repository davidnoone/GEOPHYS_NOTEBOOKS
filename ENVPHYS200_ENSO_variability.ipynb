{
  "nbformat": 4,
  "nbformat_minor": 0,
  "metadata": {
    "colab": {
      "provenance": [],
      "authorship_tag": "ABX9TyNdN2hDBHX/7yoK3RBAbxDB",
      "include_colab_link": true
    },
    "kernelspec": {
      "name": "python3",
      "display_name": "Python 3"
    },
    "language_info": {
      "name": "python"
    }
  },
  "cells": [
    {
      "cell_type": "markdown",
      "metadata": {
        "id": "view-in-github",
        "colab_type": "text"
      },
      "source": [
        "<a href=\"https://colab.research.google.com/github/davidnoone/GEOPHYS_NOTEBOOKS/blob/main/ENVPHYS200_ENSO_variability.ipynb\" target=\"_parent\"><img src=\"https://colab.research.google.com/assets/colab-badge.svg\" alt=\"Open In Colab\"/></a>"
      ]
    },
    {
      "cell_type": "markdown",
      "source": [
        "# ENVPHYS 200: ENSO variability lab\n",
        "\n",
        "\n",
        "The El Nino Southern Oscillation is a significant feature in the variability of global scale circulations. It is a phenomenon that links the atmosphere and ocean by the way ocean temperatures including surface winds. El Nino, the “warm” phase of the oscillation occurs with a period of approximately 5-8 years. The cooler periods in between are called La Nina, conditions.\n",
        "\n",
        "Obtain datasets for monthly averages of ...\n",
        "* mean sea level pressure (MSLP)\n",
        "* 500 hPa Geopotential height (Z500)\n",
        "* 500 hPa vertical velocity (W500)\n",
        "* surface winds (USFC, VSFC)\n",
        "* precipitation (PREC)\n",
        "* sea surface temperature (SST).\n",
        "\n",
        "Also obtain the data for the Multivariate ENSO Index (MEI).\n",
        "\n",
        "We wish to examine how atmospheric circulation is related to the MEI.\n",
        "We will focus only on data and conditions dueing January for the time period 1979 to 2023.\n",
        "\n",
        "The guiding question might be phrased as...\n",
        "\n",
        "_What type of conditions can I expect this comming summer?_\n",
        "\n",
        "###Learning goals\n",
        "* Patterns of atmospheric variability\n",
        "* Relationships between ocean and atmospheric state\n",
        "* Impact of El Nino on global, and New Zealand, climate\n",
        "\n",
        "\n",
        "###Python goals\n",
        "* Analysis of time series data.\n",
        "* Use of linear regression function\n",
        "* Statistical manipulating muti-dimensional gridded data with a time dimension.\n",
        "\n",
        "\n",
        "\n"
      ],
      "metadata": {
        "id": "dYIl7eV4hMSq"
      }
    },
    {
      "cell_type": "code",
      "execution_count": null,
      "metadata": {
        "id": "zRTuOVrNhLoP"
      },
      "outputs": [],
      "source": [
        "import warnings\n",
        "warnings.filterwarnings('ignore')\n",
        "\n",
        "import numpy as np\n",
        "import pandas as pd\n",
        "from scipy.stats import linregress\n",
        "import matplotlib.pyplot as plt\n",
        "\n",
        "try:\n",
        "    import netCDF4 as ncdf\n",
        "except:\n",
        "    print('NetCDF needs to be installed: this will take a few moments')\n",
        "    !pip install netCDF4\n",
        "    import netCDF4 as ncdf\n",
        "\n",
        "try:\n",
        "  import cartopy.crs as ccrs\n",
        "except:\n",
        "  print('cartopy needs to be installed: this will take a few moments')\n",
        "  !pip install cartopy\n",
        "  !pip uninstall shapely -y\n",
        "  !pip install shapely --no-binary shapely\n",
        "  import cartopy.crs as ccrs\n",
        "\n",
        "\n",
        "# Download a data file from github, if it doesn't exist\n",
        "!test ! -f ERA5_JAN_1978-2023.nc && wget 'http://kete.rangi.cloud.edu.au/u/dcn/ERA5_JAN_1978-2023.nc'\n",
        "!test ! -f meiv2.data && wget 'https://raw.githubusercontent.com/davidnoone/GEOPHYS_NOTEBOOKS/main/data/meiv2.data'\n",
        "\n"
      ]
    },
    {
      "cell_type": "code",
      "source": [
        "# Some physical constants which we will need later\n",
        "gravity = 9.81            # acceleration due to gravity [m/s]\n",
        "rearth  = 6371000.        # radius of the earth [m]\n",
        "omega   = 7.2921159e-5    # Rotation rate of earth (2 pi radians/day)\n",
        "Rdry    = 287.            # gas constant for dry air [J/K/kg]\n",
        "\n",
        "# Some definitions needed below for plotting\n",
        "proj_grid = ccrs.PlateCarree(180)     # Map projection with 180 is the central longitude\n",
        "proj_data = ccrs.PlateCarree(0)       # Data has \"longitude\", relative to 0 E.\n",
        "figsize = [12,8]                      # size, in inches!\n"
      ],
      "metadata": {
        "id": "-F2kk9jCqtGb"
      },
      "execution_count": null,
      "outputs": []
    },
    {
      "cell_type": "markdown",
      "source": [
        "##Data\n",
        "We will use data from the ECMWF 5th Reanalysis (\"ERA5\"). This data set is a comprehensive global 3d depiction of the atmosphere that spans from 1940 until today! It has developed in a way similar to opperational weather forecasts, by blending observations (from baloons, satellies, surface sites and other) with a state-of-the-art weather model. As a result a large number of variables are available for analysis.\n",
        "\n",
        "Each of these variables exists on a latitude x longitude grid, which has a spacing of 1 degrees.\n",
        "\n",
        "The original data comes in a data format called NetCDF, which is a very common data format for large atmospheric datasets. Python has a library that can read these data.\n",
        "\n",
        "Here we are using monthly averages of January conditions each year.\n"
      ],
      "metadata": {
        "id": "2tNQapWliN9Q"
      }
    },
    {
      "cell_type": "code",
      "source": [
        "# Read in ERA5 atmospheric data\n",
        "\n",
        "with ncdf.Dataset('ERA5_JAN_1978-2023.nc','r') as ncfile:    # open the file and read the data...\n",
        "  lons  = ncfile.variables['longitude'][:]      # read the longitudes\n",
        "  lats  = ncfile.variables['latitude'][:]       # read the latitudes\n",
        "  mslp  = ncfile.variables['msl'][:,:,:]/100    # mean sea level pressure, Pa-> hPa\n",
        "  prec  = ncfile.variables['tp'][:,:,:]*1000    # precipitation, m->mm per month\n",
        "  t2m   = ncfile.variables['t2m'][:,:,:]        # air temperature at 2m, K\n",
        "  sst   = ncfile.variables['sst'][:,:,:]        # sea surface temperature, K\n",
        "  u10   = ncfile.variables['u10'][:,:,:]        # westerly wind at 10 m, m/s\n",
        "  v10   = ncfile.variables['v10'][:,:,:]        # southerly wind at 10 m, m/s\n",
        "  z500  = ncfile.variables['z'][:,:,:]/gravity  # 500 hPa heght, m2/s2 -> m\n",
        "  w500  = ncfile.variables['w'][:,:,:]          # 500 hPa vertical velocity, Pa/sec\n",
        "\n",
        "nlon = len(lons)\n",
        "nlat = len(lats)\n",
        "\n",
        "\n",
        "# open and read the MEI data file\n",
        "df = pd.read_csv('meiv2.data', sep='\\s+')\n",
        "\n",
        "year = df['year'].to_numpy()\n",
        "mei = df['JAN'].to_numpy()\n",
        "\n",
        "print('year:',year)\n",
        "print ('mei:',mei)"
      ],
      "metadata": {
        "id": "7cPsebBeiLeh"
      },
      "execution_count": null,
      "outputs": []
    },
    {
      "cell_type": "markdown",
      "source": [
        "Do a little check of the data, to make sure it is what we think it is!\n",
        "\n"
      ],
      "metadata": {
        "id": "2M8nJdK6jvg8"
      }
    },
    {
      "cell_type": "code",
      "source": [
        "\n",
        "print(\"Shape of MEI :\",np.shape(mei))\n",
        "print(\"Shape of lats:\",np.shape(lats))\n",
        "print(\"Shape of lons:\",np.shape(lons))\n",
        "print(\"Shape of mslp:\",np.shape(mslp))\n",
        "\n",
        "\n",
        "#print('Latitudes:',lats)\n",
        "#print('Longitudes:',lons)"
      ],
      "metadata": {
        "id": "Kx_1zQceju2L"
      },
      "execution_count": null,
      "outputs": []
    },
    {
      "cell_type": "markdown",
      "source": [
        "Inspired by the example from last weeks plotting assignment, here is a function that creates a \"simple\" contour plot.\n",
        "\n",
        "Notice that the \"extent\", and projections need to be defined before it is called.\n",
        "\n"
      ],
      "metadata": {
        "id": "yA9Cu-XckQwb"
      }
    },
    {
      "cell_type": "code",
      "source": [
        "# Inspired by Week 7 solution, here is a function that makes a contour plot\n",
        "def my_contour_figure(data,num_levels=21,title='Unknown',cmap='jet',cline='black'):\n",
        "\n",
        "    fig = plt.figure(figsize=figsize)                  # Create a figure\n",
        "    ax = plt.axes(projection=proj_grid)\n",
        "    ax.set_extent(extent,proj_data)\n",
        "    ax.set_title(title)\n",
        "\n",
        "    # Shaded contours for temperature: not colormap \"jet\" is one of many\n",
        "    cf = plt.contourf(lons, lats, data, num_levels, cmap=cmap,transform=proj_data)\n",
        "    plt.colorbar(cf)                                      # Add color bar\n",
        "\n",
        "    # Overlay contour lines\n",
        "    cl = plt.contour(lons, lats, data, num_levels, colors=cline,transform=proj_data)\n",
        "    ax.clabel(cl, cl.levels, inline=True, fontsize=10)    # Add contour line liables\n",
        "\n",
        "    # Add costlines and gridlines\n",
        "    ax.coastlines(color='blue')\n",
        "    ax.gridlines(crs=proj_grid, linewidth=1, color='cyan',\n",
        "        draw_labels=True, alpha=0.5, linestyle='--')\n",
        "\n",
        "    return\n",
        "\n"
      ],
      "metadata": {
        "id": "AsaGhJUq4MLA"
      },
      "execution_count": null,
      "outputs": []
    },
    {
      "cell_type": "code",
      "source": [
        "# Example using the function above: plotting mean sea level\n",
        "\n",
        "# Set region of the world toplot: extnt = [lon_min, lon_max, lat_min, lat_max]\n",
        "#extent = [140, 200, -65, -10]       # New Zealand region\n",
        "#extent = [120, 200, -50, 0]         # South Pacific near New Zealand\n",
        "extent = [0, 360, -90, 90]           # Global\n",
        "\n",
        "# Use the function above to make a plot\n",
        "itime = 0       # Select which time slice to plot!    [ CHANGE THIS FOR DIFFERENT YEARS]\n",
        "my_contour_figure(mslp[itime,:,:],title='Mean Sea Level Pressure [hPa]: January '+str(year[itime]))\n"
      ],
      "metadata": {
        "id": "lLclIZYnj6q8"
      },
      "execution_count": null,
      "outputs": []
    },
    {
      "cell_type": "markdown",
      "source": [
        "---\n",
        "### Task a)\tConstruct a time series plot of the MEI.\n"
      ],
      "metadata": {
        "id": "oCgViSFAoiy-"
      }
    },
    {
      "cell_type": "code",
      "source": [
        "# Your code to make a time series plot: January MEI versus year.\n",
        "# You will need to use the matplot.lib functions:\n",
        "\n",
        "# fig = plt.figure()\n",
        "# plt.plot(x,y)\n",
        "\n",
        "# Make sure to include axis labels and a title!\n"
      ],
      "metadata": {
        "id": "Fwq0bRihqxJg"
      },
      "execution_count": null,
      "outputs": []
    },
    {
      "cell_type": "markdown",
      "source": [
        "---\n",
        "### Task b)\tWhat are the units of the MEI?"
      ],
      "metadata": {
        "id": "ZONQFbELop7-"
      }
    },
    {
      "cell_type": "markdown",
      "source": [],
      "metadata": {
        "id": "U-GCqgdBrKCJ"
      }
    },
    {
      "cell_type": "markdown",
      "source": [
        "---\n",
        "### Task c)\tFrom your plot, identify periods in the last few decades for which there have been strong El Nino events."
      ],
      "metadata": {
        "id": "XwDWXZZ1op0u"
      }
    },
    {
      "cell_type": "markdown",
      "source": [
        "List of years:"
      ],
      "metadata": {
        "id": "dsj0SvuMrLQL"
      }
    },
    {
      "cell_type": "markdown",
      "source": [
        "---\n",
        "### Task d)\tMake a contour plot of SST. Also make a contour plot of precipitation and surface easterly winds."
      ],
      "metadata": {
        "id": "kkY2FORAopq-"
      }
    },
    {
      "cell_type": "code",
      "source": [
        "# Your plots here: you may wish to use the plottig funtion defined above."
      ],
      "metadata": {
        "id": "iSywDV-5phax"
      },
      "execution_count": null,
      "outputs": []
    },
    {
      "cell_type": "markdown",
      "source": [
        "---\n",
        "### Task e)\tFrom your SST plot, identify and describe regions where you expect to observe upwelling."
      ],
      "metadata": {
        "id": "CAl8zsqwopmP"
      }
    },
    {
      "cell_type": "markdown",
      "source": [],
      "metadata": {
        "id": "-B88-GUtpfyh"
      }
    },
    {
      "cell_type": "markdown",
      "source": [
        "---\n",
        "### Task f)\tFrom your surface wind and MSLP plot, identify (and describe) evidence of the Walker circulation.\n"
      ],
      "metadata": {
        "id": "iZEPN_qLoph3"
      }
    },
    {
      "cell_type": "markdown",
      "source": [],
      "metadata": {
        "id": "Sffug1EIpb6x"
      }
    },
    {
      "cell_type": "markdown",
      "source": [
        "---\n",
        "### Task g)\tMake a contour plots showing the regression of the MEI with each of the fields.\n",
        "\n",
        "(To analyze how El Nino influences the climatology we wish to examine the linear relationship between the MEI and other quantities)\n",
        "\n",
        "\n",
        "We wish to consider the \"slope\" as the linear relationship between the MEI and some quantity, for instance, MSLP.\n",
        "MSLP is a 3d data field with dimensions: MSLP[time,latitude,longitude].\n",
        "We can consider this as a time series at each point. Thus, what is needed is compute the slope $\\Delta (MSLP) / \\Delta (MEI)$ at each point i, j.\n"
      ],
      "metadata": {
        "id": "d0lwkGIeopeO"
      }
    },
    {
      "cell_type": "code",
      "source": [
        "def regression_map(x_series,y_grid,):\n",
        "  \"\"\" Computes the \"slope\" of data versus series for each point in the data map\"\"\"\n",
        "  slope_map = np.zeros((nlat,nlon))\n",
        "\n",
        "  # loop over each point on the latitude/longitude grid\n",
        "  for j in range(nlat):\n",
        "    for i in range(nlon):\n",
        "      y_series = np.squeeze(y_grid[:,j,i])    # get the time series at a single point\n",
        "\n",
        "      # perform linear regression at each point:\n",
        "      slope, intercept, r_value, p_value, std_err = linregress(x_series, y_series)\n",
        "      slope_map[j,i] = slope      # save the slope!\n",
        "                                  # Could also save the \"r\" or \"p\" value for\n",
        "\n",
        "  return slope_map\n",
        "\n"
      ],
      "metadata": {
        "id": "39uFAOAZKKwU"
      },
      "execution_count": null,
      "outputs": []
    },
    {
      "cell_type": "code",
      "source": [
        "# Your plots here: you may wish to use the plottig funtion defined above.\n",
        "\n",
        "#reg_mslp = regression_map(mei,mslp)\n",
        "\n",
        "# PLOT!\n",
        "#my_contour_figure(reg_mslp,title='MSLP regression with MEI [hPa]: January ')\n",
        "\n"
      ],
      "metadata": {
        "id": "ibbLzuSgpT2J"
      },
      "execution_count": null,
      "outputs": []
    },
    {
      "cell_type": "markdown",
      "source": [
        "---\n",
        "### Task i)\tMaking reference to your figures, describe how you see evidence of the Bjerknes feedback in the regression maps of SST, surface westerly winds, vertical velocity, and precipitation."
      ],
      "metadata": {
        "id": "ofzqWrkUopUW"
      }
    },
    {
      "cell_type": "markdown",
      "source": [],
      "metadata": {
        "id": "6H3JsPaPpQMJ"
      }
    },
    {
      "cell_type": "markdown",
      "source": [
        "---\n",
        "### Task j)\tMake a prediction for the likely weather conditions near Auckland for the common summer.\n",
        "\n",
        "There is a prediction that the coming summer (2023/2024) an El Nino event will emerge. Making reference to your diagrams and analysis, What is your expectation for rainfall, temperature and wind?"
      ],
      "metadata": {
        "id": "8zubkT8aopOm"
      }
    },
    {
      "cell_type": "markdown",
      "source": [],
      "metadata": {
        "id": "4VYgQPkmopEG"
      }
    },
    {
      "cell_type": "markdown",
      "source": [
        "---\n",
        "# Outcome\n",
        "\n",
        "Having reached the end, you have now learned to be able to perform statistical analysis of time series and complex 3d (!) gridded datasets. Datasets like these, and these types of methods are using in wide areas of climate research, including analysis of future climate change, seasonal weather prediction and other types of analysis of climate impacts.\n",
        "\n",
        "Here, you've been able to use oberservations, matched with a thery for the development of coupled ocean-atmosphere phenomena (i.e., ENSO), to make a statistical prediction for the upcoming summer season.\n"
      ],
      "metadata": {
        "id": "rexxSS0Op3rD"
      }
    },
    {
      "cell_type": "code",
      "source": [
        "#"
      ],
      "metadata": {
        "id": "t9JKObXxp2Tx"
      },
      "execution_count": null,
      "outputs": []
    }
  ]
}