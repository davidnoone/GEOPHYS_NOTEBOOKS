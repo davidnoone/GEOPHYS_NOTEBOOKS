{
  "nbformat": 4,
  "nbformat_minor": 0,
  "metadata": {
    "colab": {
      "private_outputs": true,
      "provenance": [],
      "authorship_tag": "ABX9TyP5XT1C2IIuJy9APNUQtB2c",
      "include_colab_link": true
    },
    "kernelspec": {
      "name": "python3",
      "display_name": "Python 3"
    },
    "language_info": {
      "name": "python"
    }
  },
  "cells": [
    {
      "cell_type": "markdown",
      "metadata": {
        "id": "view-in-github",
        "colab_type": "text"
      },
      "source": [
        "<a href=\"https://colab.research.google.com/github/davidnoone/GEOPHYS_NOTEBOOKS/blob/main/VorticityStreamFunction_Inversion.ipynb\" target=\"_parent\"><img src=\"https://colab.research.google.com/assets/colab-badge.svg\" alt=\"Open In Colab\"/></a>"
      ]
    },
    {
      "cell_type": "code",
      "execution_count": null,
      "metadata": {
        "id": "B8l3x2PijTcr"
      },
      "outputs": [],
      "source": [
        "import numpy as np\n",
        "import matplotlib.pyplot as plt\n",
        "\n",
        "# Define the grid parameters\n",
        "nx = 50\n",
        "ny = 50\n",
        "Lx = 1.0\n",
        "Ly = 1.0\n",
        "dx = Lx / (nx - 1)\n",
        "dy = Ly / (ny - 1)\n",
        "\n",
        "# Define the vorticity\n",
        "omega = np.zeros((nx, ny))\n",
        "omega[nx//4:3*nx//4, ny//4:3*ny//4] = 1.0\n",
        "\n",
        "# Define the stream function\n",
        "psi = np.zeros((nx, ny))\n",
        "\n",
        "# Define the convergence criteria\n",
        "maxiter = 10000\n",
        "tolerance = 1e-6\n",
        "\n",
        "# Define the Jacobi method\n",
        "def jacobi(psi, omega, dx, dy):\n",
        "    # Create a copy of psi to store the updated values\n",
        "    psi_new = psi.copy()\n",
        "\n",
        "    # Iterate over all grid points\n",
        "    for i in range(1, nx - 1):\n",
        "        for j in range(1, ny - 1):\n",
        "            # Update the value of psi at (i,j)\n",
        "            psi_new[i, j] = 0.25 * (psi[i-1, j] + psi[i+1, j] + psi[i, j-1] + psi[i, j+1] - dx * dy * omega[i, j])\n",
        "\n",
        "    return psi_new\n",
        "\n",
        "# Solve the Poisson equation using the Jacobi method\n",
        "for iteration in range(maxiter):\n",
        "    # Compute the new value of psi\n",
        "    psi_new = jacobi(psi, omega, dx, dy)\n",
        "\n",
        "    # Check for convergence\n",
        "    error = np.max(np.abs(psi_new - psi))\n",
        "    if error < tolerance:\n",
        "        break\n",
        "\n",
        "    # Update psi with the new values\n",
        "    psi = psi_new\n",
        "\n",
        "print(\"Converged after\", iteration, \"iterations with error\", error)\n",
        "\n",
        "# Plot the solution\n",
        "x = np.linspace(0, Lx, nx)\n",
        "y = np.linspace(0, Ly, ny)\n",
        "X,Y = np.meshgrid(x, y)\n",
        "fig, ax = plt.subplots()\n",
        "cs = ax.contourf(X, Y, psi.T, cmap='Spectral')\n",
        "plt.colorbar(cs)\n",
        "ax.set_aspect('equal')\n",
        "plt.show()"
      ]
    }
  ]
}