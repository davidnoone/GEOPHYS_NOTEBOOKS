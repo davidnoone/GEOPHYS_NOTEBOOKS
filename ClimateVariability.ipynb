{
  "nbformat": 4,
  "nbformat_minor": 0,
  "metadata": {
    "colab": {
      "provenance": [],
      "authorship_tag": "ABX9TyMmvYIHlaNT7cYXZZNM/lD6",
      "include_colab_link": true
    },
    "kernelspec": {
      "name": "python3",
      "display_name": "Python 3"
    },
    "language_info": {
      "name": "python"
    }
  },
  "cells": [
    {
      "cell_type": "markdown",
      "metadata": {
        "id": "view-in-github",
        "colab_type": "text"
      },
      "source": [
        "<a href=\"https://colab.research.google.com/github/davidnoone/GEOPHYS_NOTEBOOKS/blob/main/ClimateVariability.ipynb\" target=\"_parent\"><img src=\"https://colab.research.google.com/assets/colab-badge.svg\" alt=\"Open In Colab\"/></a>"
      ]
    },
    {
      "cell_type": "markdown",
      "source": [
        "#Climate variability"
      ],
      "metadata": {
        "id": "brqRz1GoT9y7"
      }
    },
    {
      "cell_type": "code",
      "source": [
        "# Obtain the data files\n"
      ],
      "metadata": {
        "id": "5mU8ezixUZ0c"
      },
      "execution_count": null,
      "outputs": []
    },
    {
      "cell_type": "code",
      "execution_count": null,
      "metadata": {
        "id": "a3ATRaKAT9Mq"
      },
      "outputs": [],
      "source": [
        "import numpy as np\n",
        "import pandas as pd\n",
        "from scipy import stats\n",
        "from scipy import linalg\n",
        "import matplotlib\n",
        "import matplotlib.pyplot as plt\n",
        "try:\n",
        "  import netCDF4 as nc\n",
        "except:\n",
        "  !pip install netCDF4\n",
        "  import netCDF4 as nc\n"
      ]
    },
    {
      "cell_type": "markdown",
      "source": [],
      "metadata": {
        "id": "-8p5cbyxUtnC"
      }
    },
    {
      "cell_type": "code",
      "source": [
        "# open and read the netcdf files"
      ],
      "metadata": {
        "id": "B1x65qAJUs_9"
      },
      "execution_count": null,
      "outputs": []
    },
    {
      "cell_type": "code",
      "source": [
        "# open and read the MEI data file\n",
        "file_mei = 'meiv2.data'\n",
        "columns = ['Year', 'Jan', 'Feb', 'Mar', 'Apr', 'May', \n",
        "                   'Jun', 'Jul', 'Aug', 'Sep', 'Oct', 'Nov', 'Dec']\n",
        "df = pd.read_csv(file_mei, sep='\\s+', header=None, names=columns)\n"
      ],
      "metadata": {
        "id": "EosyGkNXUGDx"
      },
      "execution_count": null,
      "outputs": []
    },
    {
      "cell_type": "markdown",
      "source": [
        "Example function to perform PCA"
      ],
      "metadata": {
        "id": "iiBAIMy0UzRx"
      }
    },
    {
      "cell_type": "code",
      "source": [
        "def pca(X):\n",
        "  \"\"\" A simple principle component analysis \"\"\"\n",
        "  \n",
        "  # Compute the mean, and center the data \n",
        "  mean = np.mean(X, axis=0)\n",
        "  X_centered = X - mean\n",
        "\n",
        "  # Compute the covariance matrix\n",
        "  covariance_matrix = np.cov(X_centered, rowvar=False)\n",
        "\n",
        "  # Calulate the eigen values/vectors of the covariance\n",
        "  eigenvalues, eigenvectors = linalg.eigh(covariance_matrix)\n",
        "\n",
        "  # Sort these, since python (actually LAPACK!) doesn't do it\n",
        "  idx = np.argsort(eigenvalues)[::-1]\n",
        "  eigenvalues = eigenvalues[idx]\n",
        "  eigenvectors = eigenvectors[:, idx]\n",
        "\n",
        "  ## Select just the top \"numcomponents\"\n",
        "  #X_transformed = np.dot(X_centered, eigenvectors[:, :num_components])\n",
        "\n",
        "  return eigenvalues, eigenvectors"
      ],
      "metadata": {
        "id": "G0PzU85NUywq"
      },
      "execution_count": null,
      "outputs": []
    },
    {
      "cell_type": "code",
      "source": [
        "nlon = 144\n",
        "nlat = 72\n",
        "fake_data = np.random.random((nlon,nlat))\n",
        "\n",
        "eval, evec = pca(fake_data.flatten())\n",
        "\n"
      ],
      "metadata": {
        "id": "H34Jlm53T9lU"
      },
      "execution_count": null,
      "outputs": []
    },
    {
      "cell_type": "markdown",
      "source": [
        "##Part 1: regression maps"
      ],
      "metadata": {
        "id": "JdxeQKunXNbK"
      }
    },
    {
      "cell_type": "code",
      "source": [],
      "metadata": {
        "id": "zZYF6wDlXNAL"
      },
      "execution_count": null,
      "outputs": []
    },
    {
      "cell_type": "markdown",
      "source": [
        "##Part 2: patterns of variability"
      ],
      "metadata": {
        "id": "nU5FvFBfXQE1"
      }
    },
    {
      "cell_type": "code",
      "source": [],
      "metadata": {
        "id": "XkJK7fqTXPRL"
      },
      "execution_count": null,
      "outputs": []
    }
  ]
}