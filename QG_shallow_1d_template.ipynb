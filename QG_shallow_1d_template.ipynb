{
  "nbformat": 4,
  "nbformat_minor": 0,
  "metadata": {
    "colab": {
      "private_outputs": true,
      "provenance": [],
      "authorship_tag": "ABX9TyNci+imjrSo2Hdc9KbRLXlT",
      "include_colab_link": true
    },
    "kernelspec": {
      "name": "python3",
      "display_name": "Python 3"
    },
    "language_info": {
      "name": "python"
    }
  },
  "cells": [
    {
      "cell_type": "markdown",
      "metadata": {
        "id": "view-in-github",
        "colab_type": "text"
      },
      "source": [
        "<a href=\"https://colab.research.google.com/github/davidnoone/GEOPHYS_NOTEBOOKS/blob/main/QG_shallow_1d_template.ipynb\" target=\"_parent\"><img src=\"https://colab.research.google.com/assets/colab-badge.svg\" alt=\"Open In Colab\"/></a>"
      ]
    },
    {
      "cell_type": "markdown",
      "source": [
        "# QG shallow water equations in 1d"
      ],
      "metadata": {
        "id": "SE2KGDdwqyK5"
      }
    },
    {
      "cell_type": "code",
      "execution_count": null,
      "metadata": {
        "id": "m_yxwVPyqwzC"
      },
      "outputs": [],
      "source": [
        "import numpy as np\n",
        "from scipy.integrate import solve_ivp\n",
        "\n",
        "import matplotlib\n",
        "import matplotlib.pyplot as plt"
      ]
    },
    {
      "cell_type": "markdown",
      "source": [],
      "metadata": {
        "id": "mGmm43NDq_6N"
      }
    },
    {
      "cell_type": "code",
      "source": [
        "def dqdt(t, q):\n",
        "    \"\"\"\n",
        "    Function called by solve_ivp. \n",
        "    Input t and \"state\"\n",
        "    \"\"\"\n",
        "\n",
        "    print('Time is:',t)\n",
        "#    psi = \n",
        "#    dqdx = \n",
        "#    dqdy = \n",
        "#    u = \n",
        "#    v = \n",
        "\n",
        "    dqdt = 0.0\n",
        "\n",
        "    return dqdt"
      ],
      "metadata": {
        "id": "QvLweYzDq_Dn"
      },
      "execution_count": null,
      "outputs": []
    },
    {
      "cell_type": "markdown",
      "source": [
        "Set up some of the "
      ],
      "metadata": {
        "id": "u3qqU-10q8s5"
      }
    },
    {
      "cell_type": "code",
      "source": [
        "#\n",
        "# Initialize te model geometry\n",
        "#\n",
        "rearth = 6300e3     # radius of earth in m\n",
        "circ = 2*np.pi*rearth\n",
        "\n",
        "nx = 36\n",
        "dx = circ/nx\n",
        "\n",
        "lons = np.linspace(0,360,num=nx)\n",
        "xpts = circ*(lons/360)\n",
        "\n",
        "# Set coriolis parameter\n",
        "f0 = 1e-4\n",
        "beta = 1e-12 \n",
        "\n",
        "#\n",
        "# Define the initial conditions\n",
        "Rossby_Number = 0.1\n",
        "kwave = 1\n",
        "q0 = Rossby_Number*f0*np.sin(np.radians(lons)*kwave)\n",
        "\n",
        "\n",
        "#\n",
        "# Define a mountain\n",
        "#\n",
        "\n",
        "b0  = Rossby_Number*1e-4          # Mountain \"height\"\n",
        "sig = 1000.e3     # mountain width\n",
        "btop = (b0/2*np.sqrt(2*np.pi)) * np.exp(-(xpts - circ/2)**2/(2*sig*sig))\n",
        "\n",
        "\n",
        "# Some plots to check\n",
        "\n",
        "fig = plt.figure(figsize=(8,5))\n",
        "ax = plt.axes()\n",
        "ax.set(xlabel='longitude', ylabel='QGPV')\n",
        "ax.plot(lons,q0)\n",
        "plt.show()\n",
        "\n",
        "\n",
        "fig = plt.figure(figsize=(8,5))\n",
        "ax = plt.axes()\n",
        "ax.set(xlabel='longitude', ylabel='Bottom topography (mountain)')\n",
        "ax.plot(lons,btop)\n",
        "plt.show()\n",
        "\n"
      ],
      "metadata": {
        "id": "sj9uOIEiqx0l"
      },
      "execution_count": null,
      "outputs": []
    },
    {
      "cell_type": "code",
      "source": [
        "## Integrate the model for 1 day\n",
        "\n",
        "time = 86400.\n",
        "\n",
        "sol = solve_ivp(dqdt, [0, time], q0, method='RK45')\n",
        "qgpv = sol.y[:,-1]\n",
        "\n",
        "\n",
        "\n"
      ],
      "metadata": {
        "id": "xIZ9RMd2tfY2"
      },
      "execution_count": null,
      "outputs": []
    },
    {
      "cell_type": "code",
      "source": [
        "#"
      ],
      "metadata": {
        "id": "8TsHXsSZviVY"
      },
      "execution_count": null,
      "outputs": []
    }
  ]
}