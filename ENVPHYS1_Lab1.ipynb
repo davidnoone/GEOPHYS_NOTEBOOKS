{
  "nbformat": 4,
  "nbformat_minor": 0,
  "metadata": {
    "colab": {
      "provenance": [],
      "include_colab_link": true
    },
    "kernelspec": {
      "name": "python3",
      "display_name": "Python 3"
    }
  },
  "cells": [
    {
      "cell_type": "markdown",
      "metadata": {
        "id": "view-in-github",
        "colab_type": "text"
      },
      "source": [
        "<a href=\"https://colab.research.google.com/github/davidnoone/GEOPHYS_NOTEBOOKS/blob/main/ENVPHYS1_Lab1.ipynb\" target=\"_parent\"><img src=\"https://colab.research.google.com/assets/colab-badge.svg\" alt=\"Open In Colab\"/></a>"
      ]
    },
    {
      "cell_type": "markdown",
      "metadata": {
        "id": "LNM1bFgd8h0J"
      },
      "source": [
        "## ENVPHYS 701 Lab 1\n",
        "\n",
        "We are going to analyse a global meteorological dataset for the day of 20 February 2018 at 00:00 UTC. The data is from an atmospehric reanalysis (which is a blended product of all observations available and modelling), produced by the ECMWF (European Centre for Medium-ranged Weather Forecasts) as part of the 5th Reanalysis project (thus called, “ERA5 data”). Like a lot of meteorological datasets, the data is provided on pressure levels rather than altitude. The horizontal resolution is 1 degrees in both longitude and latitude.\n",
        "\n",
        "Information on the ERA5 web site, and access to raw data can be found at \n",
        "https://www.ecmwf.int/en/forecasts/datasets/reanalysis-datasets/era5\n",
        "And raw data can be obtained via a web portal:\n",
        "https://cds.climate.copernicus.eu/#!/search?text=era5&type=dataset\n",
        "\n",
        "Data for this lab have been collected into two NetCDF files. One containing pressure level data\n",
        "ERA5_pr_2018-02-18.nc and one containing surface level data ERA5_sfc_2018-02-18.nc. There is a third file containing the orography and land sea mask. ERA5_orography.nc\n"
      ]
    },
    {
      "cell_type": "code",
      "metadata": {
        "id": "SkXxVQnh79kX"
      },
      "source": [
        "# The following initalizes the colab environment and gets the datafiles from github\n",
        "!pip install netCDF4\n",
        "!pip install cartopy\n",
        "!pip uninstall shapely -y\n",
        "!pip install shapely --no-binary shapely\n",
        "\n",
        "!test ! -f ERA5_orography.nc && wget 'https://raw.github.com/davidnoone/GEOPHYS_NOTEBOOKS/main/data/ERA5_orography.nc'\n",
        "!test ! -f ERA5_pr_2018-02-18.nc && wget 'https://raw.github.com/davidnoone/GEOPHYS_NOTEBOOKS/main/data/ERA5_pr_2018-02-18.nc'\n",
        "!test ! -f ERA5_sfc_2018-02-18.nc && wget 'https://raw.github.com/davidnoone/GEOPHYS_NOTEBOOKS/main/data/ERA5_sfc_2018-02-18.nc'\n"
      ],
      "execution_count": null,
      "outputs": []
    },
    {
      "cell_type": "code",
      "metadata": {
        "id": "oS9tE60ZNZrt"
      },
      "source": [
        "# Import the needed modules\n",
        "import numpy as np\n",
        "import matplotlib\n",
        "import matplotlib.pyplot as plt\n",
        "import netCDF4 as nc\n",
        "import cartopy.crs as ccrs\n",
        "\n",
        "print(\"All modules needed have been imported. Ready to continue!\")"
      ],
      "execution_count": null,
      "outputs": []
    },
    {
      "cell_type": "markdown",
      "metadata": {
        "id": "p2SgyHKVQ4Wb"
      },
      "source": [
        "#Objectives\n",
        "\n",
        "Descrbe what you're aiming to accomplish with this task (Hint: after completing the task, you may find you well placed to state the aim with hindsight!)"
      ]
    },
    {
      "cell_type": "markdown",
      "metadata": {
        "id": "ckUUNcua84HP"
      },
      "source": [
        "#Methods\n",
        "1.\tWhat is an atmospheric reanalaysis?\n",
        "2.\tWhat is the native horizontal and vertical resolution of of the weather forecast model used by ECMWF for the ERA5 project? \n",
        "3.\tWhat type of data is used within the ERA5?\n",
        "4.\tMake a listing (table) of the variables within the netcdf files, containing their name, and units. *Hint* Some of this information can be obtained from the header, which can be seen using \"ncdump -h\". Here is an example of [ncdump functionality in python](http://schubert.atmos.colostate.edu/~cslocum/netcdf_example.html). \n",
        "\n",
        "Be sure to quote the NZ local time for this dataset. (Be careful with daylight savings!)\n"
      ]
    },
    {
      "cell_type": "markdown",
      "metadata": {
        "id": "x9WtlmGnQjU9"
      },
      "source": [
        "##Question 1\n",
        "Make sure that you can read the files and make a basic plot: plot a global map of the mean sea level pressure (shading), overlay horizontal‐wind vectors, and add the contours of continental topography. \n",
        "\n",
        "Make sure that the aspect ratio is acceptable, that there is a scale for the wind vectors and color scale for the pressure. Use this plot as a template for the following questions. "
      ]
    },
    {
      "cell_type": "code",
      "metadata": {
        "id": "y6yy6U019E9d"
      },
      "source": [
        "#"
      ],
      "execution_count": null,
      "outputs": []
    },
    {
      "cell_type": "markdown",
      "metadata": {
        "id": "JnNcT3MrRQ23"
      },
      "source": [
        "##Question 2\n",
        "Describe the meteorological conditions in New Zealand that day? You may need to make reference to several different quantities as graphs/maps.\n",
        "\n",
        "\n",
        "[Type your answers here, which can include math if you like]\n",
        "\n",
        "*Any math can go here. As an example, Newton said,*\n",
        "\n",
        "$$\n",
        "  \\frac{d v}{dt} = \\frac{F}{m}\n",
        "$$"
      ]
    },
    {
      "cell_type": "markdown",
      "metadata": {
        "id": "Iy1b_zTPRRj3"
      },
      "source": [
        "##Question 3\n",
        "Calculate and plot the vertical component of the vorticity at 850 hPa and at 200 hPa around New Zealand (65°S‐25°S, 150°E‐170°W). "
      ]
    },
    {
      "cell_type": "code",
      "metadata": {
        "id": "FaFq_oGRRSP1"
      },
      "source": [
        "# Python solution here"
      ],
      "execution_count": null,
      "outputs": []
    },
    {
      "cell_type": "markdown",
      "source": [
        "##Question 4\n",
        "Calculate and plot the divergence of the horizontal wind for the same domain and altitudes. "
      ],
      "metadata": {
        "id": "H2X5m74929uu"
      }
    },
    {
      "cell_type": "code",
      "source": [
        "# Python solution here"
      ],
      "metadata": {
        "id": "C0Jcsm9p3FiQ"
      },
      "execution_count": null,
      "outputs": []
    },
    {
      "cell_type": "markdown",
      "source": [
        "##Question 5\t\n",
        "What type of circulation was occurring?"
      ],
      "metadata": {
        "id": "ofoQsq5g3Hfn"
      }
    },
    {
      "cell_type": "markdown",
      "source": [
        "##Question 6\n",
        "Is it reasonable to define a streamfunction at 850 hPa in this region? (explain why) "
      ],
      "metadata": {
        "id": "ff06HTvL3HSA"
      }
    },
    {
      "cell_type": "markdown",
      "source": [
        "##Question 7.\t\n",
        "Write down the finite difference form of the Poisson equation that relates vorticity and streamfunction. Research and explain a method to solve this equation  numerically. Describe a numerical scheme that could do this, and perform the calculation so as to plot the streamfunction. "
      ],
      "metadata": {
        "id": "iM-r0j5M3HFW"
      }
    },
    {
      "cell_type": "markdown",
      "source": [
        "##Question 8\n",
        "Calculate and plot the streamfunction of the horizontal wind for the same domain and  altitudes. "
      ],
      "metadata": {
        "id": "jbO2A9pq3G3A"
      }
    },
    {
      "cell_type": "code",
      "source": [
        "# Python solution here"
      ],
      "metadata": {
        "id": "kQdi3RTH3Gwe"
      },
      "execution_count": null,
      "outputs": []
    },
    {
      "cell_type": "markdown",
      "source": [
        "##Question 9\t\n",
        "Compare the streamfunction to a contour map of geopotential height at 850 hPa. Do there appear similar/different? (explain/describe your observation)."
      ],
      "metadata": {
        "id": "pUGDa8X33p26"
      }
    },
    {
      "cell_type": "markdown",
      "source": [],
      "metadata": {
        "id": "k2k7zIxg3Gou"
      }
    },
    {
      "cell_type": "code",
      "source": [],
      "metadata": {
        "id": "B6MnBDll3Gg3"
      },
      "execution_count": null,
      "outputs": []
    },
    {
      "cell_type": "markdown",
      "source": [
        "##Question 10\n",
        "Plot the geopotential height and horizontal‐wind vectors at 850 hPa over the North Atlantic (10°N‐70°N, 100°W‐5°W). Overlay streamlines of the horizontal flow. What do you observe? Plot the same quantities in the New Zealand region (850 hPa, 65°S‐25°S, 150°E‐170°W). \n",
        "\n",
        "Would you characterize the atmospheric conditions as similar or otherwise (contrast)?\n"
      ],
      "metadata": {
        "id": "GRUjlAlR3GV3"
      }
    },
    {
      "cell_type": "code",
      "source": [],
      "metadata": {
        "id": "VrclAMhe3yCA"
      },
      "execution_count": null,
      "outputs": []
    },
    {
      "cell_type": "markdown",
      "metadata": {
        "id": "OkHPjABnWxGh"
      },
      "source": [
        "#Summary (optional)\n",
        "\n",
        "Add any key final remarks here.\n"
      ]
    }
  ]
}