{
  "nbformat": 4,
  "nbformat_minor": 0,
  "metadata": {
    "colab": {
      "private_outputs": true,
      "provenance": [],
      "authorship_tag": "ABX9TyMaKYvCj6RpTs+r+9HHK0e5",
      "include_colab_link": true
    },
    "kernelspec": {
      "name": "python3",
      "display_name": "Python 3"
    },
    "language_info": {
      "name": "python"
    }
  },
  "cells": [
    {
      "cell_type": "markdown",
      "metadata": {
        "id": "view-in-github",
        "colab_type": "text"
      },
      "source": [
        "<a href=\"https://colab.research.google.com/github/davidnoone/GEOPHYS_NOTEBOOKS/blob/main/Thermo_expansion.ipynb\" target=\"_parent\"><img src=\"https://colab.research.google.com/assets/colab-badge.svg\" alt=\"Open In Colab\"/></a>"
      ]
    },
    {
      "cell_type": "code",
      "execution_count": null,
      "metadata": {
        "id": "k7hp-WeY9zE7"
      },
      "outputs": [],
      "source": [
        "import numpy as np\n",
        "import matplotlib.pyplot as plt\n",
        "\n",
        "# Constants\n",
        "R = 8.314  # Gas constant (J/mol K)\n",
        "T = 300    # Isothermal temperature (K)\n",
        "gamma_mono = 5.0/3.0  # Adiabatic index for a monoatomic gas\n",
        "gamma_diat = 7.0/5.0  # Adiabatic index for a ditomic gas\n",
        "\n",
        "\n",
        "# initial conditions\n",
        "V_ini = 10.             # litre\n",
        "V_fin = 1.              # litre\n",
        "P_atm = 1.0\n",
        "\n",
        "# Find the number of moles: this is arbitrary\n",
        "# (Slight of hand here: we're working in units of litre, and atm, not m^3 and Pa)\n",
        "nmol = P_atm *  V_ini / (R * T)\n",
        "print('Number of moles:',nmol)      # units of \"number * Pa/atm * 1000 l/m^3\")\n",
        "\n",
        "\n",
        "# Define volume range for both processes\n",
        "npts = 100                              # number of points along the line\n",
        "V_isotherm = np.linspace(V_ini, V_fin, npts)  # Isothermal compression (10L to 1L)\n",
        "V_adiabatic = np.linspace(V_fin, V_ini, npts)  # Adiabatic expansion (1L to 10L)\n",
        "\n",
        "#\n",
        "# Do the physics\n",
        "#\n",
        "\n",
        "# Compute te isothermal pressure from the ideal gas law from known temerature and volume.\n",
        "P_isotherm = nmol * R * T / V_isotherm\n",
        "\n",
        "# Compute pressure for adiabatic expansion using PV^gamma = constant\n",
        "# Start from the final isothermal pressure\n",
        "P_adiabatic = P_isotherm[-1] * (V_adiabatic / V_adiabatic[0]) ** -gamma_mono\n",
        "P_adiabdiat = P_isotherm[-1] * (V_adiabatic / V_adiabatic[0]) ** -gamma_diat\n",
        "\n",
        "#------------------------------------------------------------------\n",
        "# Create plot\n",
        "#------------------------------------------------------------------\n",
        "plt.figure(figsize=(8, 6))\n",
        "plt.plot(V_isotherm, P_isotherm, label=\"Isothermal Compression\", color='b')\n",
        "plt.plot(V_adiabatic, P_adiabatic, label=\"Adiabatic Expansion (monoatomic)\", color='r')\n",
        "plt.plot(V_adiabatic, P_adiabdiat, label=\"Adiabatic Expansion (diatomic)\", color='r',linestyle = '--')\n",
        "\n",
        "# Labels and annotations\n",
        "plt.xlabel(\"Volume (L)\")\n",
        "plt.ylabel(\"Pressure (atm)\")\n",
        "plt.title(\"PV Diagram: Isothermal Compression & Adiabatic Expansion\")\n",
        "plt.legend()\n",
        "plt.grid(True)\n",
        "\n",
        "# Annotate states\n",
        "plt.scatter([10, 1], [P_isotherm[0], P_isotherm[-1]], color='b', zorder=3)  # Isothermal endpoints\n",
        "plt.scatter([1, 10], [P_adiabatic[0], P_adiabatic[-1]], color='r', zorder=3)  # Adiabatic endpoints\n",
        "\n",
        "plt.text(10.2, P_isotherm[0], \"Start (10L, P1)\", fontsize=10, verticalalignment='bottom')\n",
        "plt.text(1.2, P_isotherm[-1], \"Compressed (1L, P2)\", fontsize=10, verticalalignment='bottom')\n",
        "plt.text(1.2, P_adiabatic[0], \"Expand Start (1L, P2)\", fontsize=10, verticalalignment='top')\n",
        "plt.text(10.2, P_adiabatic[-1], \"Final (10L, P3)\", fontsize=10, verticalalignment='top')\n",
        "\n",
        "plt.show()\n"
      ]
    }
  ]
}