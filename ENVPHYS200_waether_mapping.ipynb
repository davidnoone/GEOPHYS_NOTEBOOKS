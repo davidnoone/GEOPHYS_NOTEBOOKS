{
  "nbformat": 4,
  "nbformat_minor": 0,
  "metadata": {
    "colab": {
      "provenance": [],
      "authorship_tag": "ABX9TyOTrGxRh7P2Kj/8fZrDlZA4",
      "include_colab_link": true
    },
    "kernelspec": {
      "name": "python3",
      "display_name": "Python 3"
    },
    "language_info": {
      "name": "python"
    }
  },
  "cells": [
    {
      "cell_type": "markdown",
      "metadata": {
        "id": "view-in-github",
        "colab_type": "text"
      },
      "source": [
        "<a href=\"https://colab.research.google.com/github/davidnoone/GEOPHYS_NOTEBOOKS/blob/main/ENVPHYS200_waether_mapping.ipynb\" target=\"_parent\"><img src=\"https://colab.research.google.com/assets/colab-badge.svg\" alt=\"Open In Colab\"/></a>"
      ]
    },
    {
      "cell_type": "markdown",
      "source": [
        "# ENVPHYS 200: Weather mapping lab\n",
        "\n",
        "\n",
        "Weather maps are used to provide a synopsis of the atmospheric circulation: often called the “synoptic chart”. You will examine the atmospheric conditions in the region of New Zealand for a the time period around 11 February 2023.\n",
        "\n",
        "Obtain datasets for mean sea level pressure (MSLP), 1000 hPa geopotential height (Z500), 500 hPa Geopotential height (Z1000), total column water content (“precipitable water”, PWTR).\n",
        "\n",
        "_Your figures should be aesthetically pleasing! The figures should also have titles which descript what quantity is plot, the date, and the units. If you use color filled contours, be sure to include a color bar that describes the numerical value of the scale. For wind vectors, you may wish to plot a subset of all vectors, since there may be too many to have a clear diagram)._\n",
        "\n",
        "\n",
        "###Learning goals\n",
        "* (Hydrostatic) Similarity of height at constant pressure, and pressure at constant height\n",
        "* (Hydrostatic/hypsometric) Relationship between geopotential and temperature\n",
        "* (Geostrophic) Winds and pressure gradients\n",
        "\n",
        "\n",
        "###Python goals\n",
        "* Explore use of gridded 2d data in python (using numpy)\n",
        "* Plotting maps of 2d data (contour and contourf)\n",
        "* Plotted maps of 2d vector fields (quiver)\n",
        "* Intro to map projections, geographic coordinates.\n",
        "\n",
        "\n"
      ],
      "metadata": {
        "id": "dYIl7eV4hMSq"
      }
    },
    {
      "cell_type": "code",
      "execution_count": null,
      "metadata": {
        "id": "zRTuOVrNhLoP"
      },
      "outputs": [],
      "source": [
        "import warnings\n",
        "warnings.filterwarnings('ignore')\n",
        "\n",
        "import numpy as np\n",
        "import matplotlib.pyplot as plt\n",
        "\n",
        "try:\n",
        "    import netCDF4 as ncdf\n",
        "except:\n",
        "    print('NetCDF needs to be installed: this will take a few moments')\n",
        "    !pip install netCDF4\n",
        "    import netCDF4 as ncdf\n",
        "\n",
        "try:\n",
        "  import cartopy.crs as ccrs\n",
        "except:\n",
        "  print('cartopy needs to be installed: this will take a few moments')\n",
        "  !pip install cartopy\n",
        "  !pip uninstall shapely -y\n",
        "  !pip install shapely --no-binary shapely\n",
        "  import cartopy.crs as ccrs\n",
        "\n",
        "\n",
        "# Download a data file from github, if it doesn't exist\n",
        "!test ! -f ERA_prl_20230211.nc && wget 'https://github.com/davidnoone/GEOPHYS_NOTEBOOKS/raw/main/ERA_prl_20230211.nc'\n",
        "!test ! -f ERA_sfc_20230211.nc && wget 'https://github.com/davidnoone/GEOPHYS_NOTEBOOKS/raw/main/ERA_sfc_20230211.nc'\n",
        "\n"
      ]
    },
    {
      "cell_type": "code",
      "source": [
        "# Some physical constants which we will need later\n",
        "gravity = 9.81            # acceleration due to gravity [m/s]\n",
        "rearth  = 6371000.        # radius of the earth [m]\n",
        "omega   = 7.2921159e-5    # Rotation rate of earth (2 pi radians/day)\n",
        "\n",
        "\n",
        "def calculate_gradient(lons,lats,fld):\n",
        "    \"\"\" Uses a finite difference method to compute grradients in x and y\n",
        "        of some 2d field: fld(y,x), returns dfdx and dfdy\n",
        "        Assumes \"x\" is longitudes, and \"y\" is latitudes\n",
        "        Assume grid has constant spacing.\n",
        "    \"\"\"\n",
        "    # calculate distance, in meters, between grid points\n",
        "    dx = rearth*np.radians((lons[2] - lons[1]))\n",
        "    dy = rearth*np.radians((lats[2] - lats[1]))\n",
        "    print('DX=',dx,'  DY=',dy)\n",
        "    coslat = np.cos(np.radians(lats))\n",
        "\n",
        "    # gradient in \"x\": use \"roll\" to account for periodic edges\n",
        "    dfdx = (np.roll(fld, -1, axis=1) - np.roll(fld,+1,axis=1))     # \"df\" as a difference\n",
        "    for j in range(len(coslat)):\n",
        "        dfdx[j,:] = dfdx[j,:]/(2*dx*coslat[j])                # divide by \"dx\"\n",
        "\n",
        "\n",
        "    # gradent in \"y\"\n",
        "    dfdy = np.gradient(fld,axis=0)/(2*dy)\n",
        "\n",
        "    return dfdx, dfdy\n"
      ],
      "metadata": {
        "id": "-F2kk9jCqtGb"
      },
      "execution_count": null,
      "outputs": []
    },
    {
      "cell_type": "markdown",
      "source": [
        "##Data\n",
        "We will use data from the ECMWF 5th Reanalysis (\"ERA5\"). This data set is a comprehensive global 3d depiction of the atmosphere that spans from 1940 until today! It has developed in a way similar to opperational weather forecasts, by blending observations (from baloons, satellies, surface sites and other) with a state-of-the-art weather model. As a result a large number of variables are available for analysis.\n",
        "\n",
        "We will focus on...\n",
        "* Mean sea level pressure (MSLP)\n",
        "* Geopotential height at 1000 and 500 hPa (Z100 and Z500)\n",
        "* Precipitable water (PWTR)\n",
        "\n",
        "Each of these variables exists on a latitude x longitude grid, which has a spacing of 0.25 degrees.\n",
        "\n",
        "The original data comes in a data format called NetCDF, which is a very common data format for large atmospheric datasets. Python has a library that can read these data."
      ],
      "metadata": {
        "id": "2tNQapWliN9Q"
      }
    },
    {
      "cell_type": "code",
      "source": [
        "# Read in the data\n",
        "\n",
        "with ncdf.Dataset('ERA_prl_20230211.nc','r') as ncfile:    # open the file and read the data...\n",
        "  lons  = ncfile.variables['longitude'][:]    # read the longitudes\n",
        "  lats  = ncfile.variables['latitude'][:]     # read the latitudes\n",
        "  levs  = ncfile.variables['level'][:]        # read the pressre level\n",
        "  z500  = ncfile.variables['z'][0,0,:,:]      # read the 500 hPa height\n",
        "  z1000 = ncfile.variables['z'][0,1,:,:]      # read the 1000 hPa height\n",
        "\n",
        "with ncdf.Dataset('ERA_sfc_20230211.nc','r') as ncfile:    # open the file and read the data...\n",
        "  mslp  = ncfile.variables['msl'][0,:,:]      # read the mean sea level pressure\n",
        "  pwtr  = ncfile.variables['tcw'][0,:,:]      # read the mean sea level pressure\n",
        "\n",
        "mslp = mslp/100         # convert units from Pa to hPa\n",
        "z500 = z500/gravity     # convert units from geopotential to metres\n",
        "z1000 = z1000/gravity   # convert units from geopotential to metres\n",
        "\n",
        "nlon = len(lons)\n",
        "nlat = len(lats)\n",
        "nhalf = int(nlon/2)\n"
      ],
      "metadata": {
        "id": "7cPsebBeiLeh"
      },
      "execution_count": null,
      "outputs": []
    },
    {
      "cell_type": "markdown",
      "source": [
        "Do a little check of the data, to make sure it is what we think it is!\n",
        "\n",
        ""
      ],
      "metadata": {
        "id": "2M8nJdK6jvg8"
      }
    },
    {
      "cell_type": "code",
      "source": [
        "print(\"Shape of lats:\",np.shape(lats))\n",
        "print(\"Shape of lons:\",np.shape(lons))\n",
        "print(\"Shape of mslp:\",np.shape(mslp))\n",
        "\n",
        "print('Latitudes:',lats)\n",
        "print('Longitudes:',lons)"
      ],
      "metadata": {
        "id": "Kx_1zQceju2L"
      },
      "execution_count": null,
      "outputs": []
    },
    {
      "cell_type": "markdown",
      "source": [
        "---\n",
        "### Task (a) Make a contour plot of each of the four quantities: MSLP, Z1000, Z500 and PWTR\n",
        "_The contour plots should have labels and a title that describes what each plot is._\n",
        "\n",
        "You will use the \"contour\" and \"contourf\" functions.\n",
        "Your figures can have a title.\n",
        "\n",
        "You may also wish to explore different contour levels, adding a colorbar, adding line labels, and possibly changing the colors!\n",
        "\n",
        "See documentation and examples at:\n",
        "https://matplotlib.org/stable/api/_as_gen/matplotlib.pyplot.contour.html\n",
        "\n",
        "Particularly useful key words are \"levels\", \"cmap\", \"colors\"\n",
        "\n"
      ],
      "metadata": {
        "id": "yA9Cu-XckQwb"
      }
    },
    {
      "cell_type": "code",
      "source": [
        "# Example: plotting mean sea level\n",
        "\n",
        "extent = [140, 200, -65, -10]\n",
        "proj_grid = ccrs.PlateCarree(180)      # Map projection with 180 is the central longitude\n",
        "proj_data = ccrs.PlateCarree(0)      # Data has \"longitude\", relative to 0 E.\n",
        "\n",
        "\n",
        "fig = plt.figure(figsize=[12,8])                  # Create a figure\n",
        "\n",
        "ax = plt.axes(projection=proj_grid)\n",
        "ax.set_extent(extent,proj_data)\n",
        "ax.set_title(\"Mean Sea Level Pressure (hPa) 2023/02/11 00:00:00\")\n",
        "\n",
        "# Shaded contours for temperature\n",
        "levels = 960 + 2*np.arange(41)       # set values for contour fill\n",
        "cf = plt.contourf(lons, lats, mslp, levels, cmap='jet',transform=proj_data)\n",
        "\n",
        "## Add a color bar\n",
        "plt.colorbar(cf)\n",
        "\n",
        "# Overlay contour lines\n",
        "levels = 900 + 4*np.arange(51)       # set values for contour lines\n",
        "cl = plt.contour(lons, lats, mslp, levels, colors='black',transform=proj_data)\n",
        "\n",
        "# Add contour line liables\n",
        "ax.clabel(cl, cl.levels, inline=True, fontsize=10)\n",
        "\n",
        "\n",
        "# Add costlines\n",
        "ax.coastlines(color='blue')\n",
        "\n",
        "# Add grid lines\n",
        "ax.gridlines(crs=proj_grid, linewidth=1, color='cyan',\n",
        "    draw_labels=True, alpha=0.5, linestyle='--')\n",
        "\n"
      ],
      "metadata": {
        "id": "lLclIZYnj6q8"
      },
      "execution_count": null,
      "outputs": []
    },
    {
      "cell_type": "code",
      "source": [
        "# Your plots for Z1000, Z500 and PWTR here\n",
        "# (It is recommended you use the example above, and adapt it.)\n",
        "\n",
        "\n",
        "# Z1000\n",
        "\n",
        "\n",
        "\n",
        "\n",
        "# Z500\n",
        "\n",
        "\n",
        "\n",
        "# PWTR\n",
        "\n"
      ],
      "metadata": {
        "id": "sTEYD3O6kQdy"
      },
      "execution_count": null,
      "outputs": []
    },
    {
      "cell_type": "markdown",
      "source": [
        "---\n",
        "###Task (b)\tDescribe the visual similarity between MSLP and Z1000.\n",
        "_Making reference to the hydrostatic equation, give an explanation for your answer._\n",
        "\n"
      ],
      "metadata": {
        "id": "qpCNHDD7lSb9"
      }
    },
    {
      "cell_type": "markdown",
      "source": [
        "[Click to type answer here]"
      ],
      "metadata": {
        "id": "3_N6ei0xnBDg"
      }
    },
    {
      "cell_type": "markdown",
      "source": [
        "---\n",
        "###Task (c) Make a plot of the difference in the height between 500 hPa – 1000 hPa"
      ],
      "metadata": {
        "id": "LXrU_LQKli-F"
      }
    },
    {
      "cell_type": "code",
      "source": [
        "# Your plot of thickness: Units\n"
      ],
      "metadata": {
        "id": "MD5egygElrM8"
      },
      "execution_count": null,
      "outputs": []
    },
    {
      "cell_type": "markdown",
      "source": [
        "---\n",
        "###Task (d): Explain why the 1000-500 hPa thickness is a good indicator of average tropospheric temperature.\n",
        "_Making reference to the hydrostatic equation in your answer. You may wish to write down the equation_"
      ],
      "metadata": {
        "id": "BhiX3bvGnJHw"
      }
    },
    {
      "cell_type": "markdown",
      "source": [
        "[Click to type your answer]\n"
      ],
      "metadata": {
        "id": "gKGz31tOnpkX"
      }
    },
    {
      "cell_type": "markdown",
      "source": [
        "---\n",
        "###Task (e): Calculate and plot the average lower troposphere temperature in units of Kelvin.\n",
        "\n",
        "Recall the hypsometric equation:\n",
        "\n",
        "$$\n",
        "\\frac{dp}{dz} = - \\rho g\n",
        "$$\n",
        "\n",
        "and the ideal gas law ($ p = \\rho R T $), can be combined, then integrated to give the hypsometric equation. This relates differences in pressure to differences in height:\n",
        "\n",
        "$$\n",
        "\\Delta z = z_2 - z_1 = \\frac{R T}{g} ln\\left( \\frac{p_1}{p_2} \\right)\n",
        "$$\n",
        "\n",
        "Thickness, which depends on the average temperature, T.\n",
        "\n"
      ],
      "metadata": {
        "id": "AiXO61S3n6QZ"
      }
    },
    {
      "cell_type": "code",
      "source": [
        "# Your plot of temperature in units of Kelvin\n",
        "\n"
      ],
      "metadata": {
        "id": "X4R0Pc4ZnteP"
      },
      "execution_count": null,
      "outputs": []
    },
    {
      "cell_type": "markdown",
      "source": [
        "---\n",
        "### Task (f) Calculate the geostrophic wind at 500 hPa in units of m/s, and plot it.\n",
        "\n",
        "First you will need to calculate the \"u\" and \"v\" wind components, using the geostrophic balance equations.\n",
        "\n",
        "Recall for geostophic balance, the pressure gradient force is balanced (equal and opposite) to the Coriolis force. As such we can write:\n",
        "\n",
        "$$\n",
        "u_{geo} = -\\frac{g}{f} \\frac{\\partial z}{\\partial y}\n",
        "$$\n",
        "\n",
        "$$\n",
        "v_{geo} =  \\frac{g}{f} \\frac{\\partial z}{\\partial x}\n",
        "$$\n",
        "\n",
        "\n",
        "Where f is the Coriolis parameter, and g is the acceleration due to gravity.\n",
        "The \"gradient\" terms can be computed on the grid using the idea of finite differences: that is the \"slope\" between one grid point and the next. The function defined above does this: calculate_gradient.\n",
        "\n",
        "\n",
        "Once you have these, you can use the \"quiver\" function to construct the a plot of the little vectors.\n",
        "\n",
        "You can calculate the wind speed in the usual way.\n",
        "\n",
        "$$\n",
        "|V| = \\sqrt{(u^2 + v^2)}\n",
        "$$\n",
        "\n",
        "Aim to produce a plot similar to the one from part one of the assignment: showing wind speed in color shading, and then direction as little arrow.\n",
        "\n",
        "You might also find it helpful to overlay a contour lines for the Z500.\n",
        "\n"
      ],
      "metadata": {
        "id": "NsuDAMifohDK"
      }
    },
    {
      "cell_type": "code",
      "source": [
        "# Calculate the coriolis parameter: f = 2 * omega * sin(latitude)\n",
        "#fcor = 2.0*omega*np.sin(np.radians(lats))\n",
        "fcor = -1.e-4       # typical value in southern hemisphere\n",
        "\n",
        "\n",
        "# Calculate the pressure gradient in \"x\" and \"y\".\n",
        "dzdx, dzdy = calculate_gradient(lons,lats,z500)\n",
        "\n",
        "\n",
        "# Calculate the geostrophic wind components\n",
        "ugeo = np.zeros((nlat,nlon))         # YOUR CODE HERE\n",
        "vgeo = np.zeros((nlat,nlon))         # YOUR CODE HERE\n",
        "\n",
        "\n",
        "\n",
        "# Calculate the geostriophic wind speed\n",
        "vspeed = np.sqrt(ugeo*ugeo + vgeo*vgeo)\n",
        "\n",
        "\n",
        "# PLOT a figure!\n",
        "fig = plt.figure(figsize=[12,8])                  # Create a figure\n",
        "\n",
        "ax = plt.axes(projection=proj_grid)\n",
        "ax.set_extent(extent,proj_data)\n",
        "ax.set_title(\"Wind vectors and speed at 500 hPa 2023/02/11 00:00:00\")\n",
        "\n",
        "# Contour fill for speed\n",
        "cf = plt.contourf(lons, lats, vspeed, 21, cmap='YlOrRd',transform=proj_data)\n",
        "plt.colorbar(cf)\n",
        "\n",
        "# \"quiver\" for vectors:\n",
        "scale = 10\n",
        "ax.quiver(lons, lats, ugeo, vgeo,\\\n",
        "              scale_units=\"xy\",scale=scale,transform=proj_data,color='blue')\n",
        "\n",
        "\n",
        "# Contour lines for Z500\n",
        "#plt.contour(lons,lats,z500)\n",
        "\n",
        "\n",
        "\n"
      ],
      "metadata": {
        "id": "MAOyzvLKn-8C"
      },
      "execution_count": null,
      "outputs": []
    },
    {
      "cell_type": "markdown",
      "source": [
        "---\n",
        "### Task (g): Examining your diagrams, describe the expected influence of advection on the temperature and water content near Auckland."
      ],
      "metadata": {
        "id": "NflBSAQtpT16"
      }
    },
    {
      "cell_type": "markdown",
      "source": [
        "[Double click to enter your answer]"
      ],
      "metadata": {
        "id": "5A1ErV22pXWa"
      }
    },
    {
      "cell_type": "markdown",
      "source": [
        "---\n",
        "### Task (h): Describe the weather conditions. What do you expect the weather to be like in the Auckland region in the day or two which follows.\n",
        "\n",
        "Make reference to the figures, and explain your reasoning."
      ],
      "metadata": {
        "id": "BL3DjjvFpX8R"
      }
    },
    {
      "cell_type": "markdown",
      "source": [
        "[Double click to type your answer]"
      ],
      "metadata": {
        "id": "CBTvXdOKpvy-"
      }
    },
    {
      "cell_type": "markdown",
      "source": [
        "---\n",
        "# Outcome\n",
        "\n",
        "Having reached the end, you have now learned to be able to read, visualize, and perform calulations with 2d geophysical datasets. Datasets like these are used in opperational and research applications in many fields of earth science, including weather and climate modeling.\n",
        "\n",
        "Here, you've been able to combined oberservations, with derived calulations for temperature and wind, that together allow you to offer an analysis of current weather conditions, and how the atmospheric circulation on this day is likely to change.\n"
      ],
      "metadata": {
        "id": "rexxSS0Op3rD"
      }
    },
    {
      "cell_type": "code",
      "source": [
        "#"
      ],
      "metadata": {
        "id": "t9JKObXxp2Tx"
      },
      "execution_count": null,
      "outputs": []
    }
  ]
}