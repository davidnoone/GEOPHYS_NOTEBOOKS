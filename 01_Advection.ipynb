{
  "nbformat": 4,
  "nbformat_minor": 0,
  "metadata": {
    "colab": {
      "name": "01_Advection.ipynb",
      "provenance": [],
      "collapsed_sections": [],
      "authorship_tag": "ABX9TyMz+YaJWdrR+h259mcwaNgH",
      "include_colab_link": true
    },
    "kernelspec": {
      "name": "python3",
      "display_name": "Python 3"
    }
  },
  "cells": [
    {
      "cell_type": "markdown",
      "metadata": {
        "id": "view-in-github",
        "colab_type": "text"
      },
      "source": [
        "<a href=\"https://colab.research.google.com/github/davidnoone/GEOPHYS_NOTEBOOKS/blob/main/01_Advection.ipynb\" target=\"_parent\"><img src=\"https://colab.research.google.com/assets/colab-badge.svg\" alt=\"Open In Colab\"/></a>"
      ]
    },
    {
      "cell_type": "markdown",
      "metadata": {
        "id": "WkaQseeG-pQz"
      },
      "source": [
        "# Advection, mapping and finite differences\r\n",
        "\r\n",
        "The transport of fluid (atmosphere or ocean) properties by advction is fundemental to a variety of complex behavious. In general it is non-linear, and therefore requires special consideration.\r\n",
        "\r\n",
        "In this example we will evaluate the advection in a 2-dimensional case, to make a prediction for temperature changes. The advection equation is:\r\n",
        "\r\n",
        "$$\r\n",
        "  \\frac{\\partial T}{\\partial t} = \r\n",
        "       -u \\frac{\\partial T}{\\partial x}\r\n",
        "        - v \\frac{\\partial T}{\\partial y}\r\n",
        "$$\r\n",
        "\r\n",
        "We wish to evaluate the temperature change over a 6 hour period. To do so,  the space and time derivarives can be approximated by a \"finite difference approach\". This notebook develops the skills needed for this and similar dta manipulations.\r\n",
        "\r\n",
        "**Objective:** Create a map of temperature tendency.\r\n",
        "\r\n",
        "**Learning goals:**\r\n",
        " * Utilize notebook framework\r\n",
        " * Read data stored in netcdf format\r\n",
        " * Apply finite difference methods\r\n",
        " * Produce a contour map\r\n",
        "\r\n",
        "**Python modules**\r\n",
        "* [numpy](https://numpy.org/doc/stable/user/) for manipulating arrays of gridded data\r\n",
        "* [netCDF4](https://unidata.github.io/netcdf4-python/) module for reading NetCDF files\r\n",
        "* [Matplotlib](https://matplotlib.org/3.1.1/index.html) library for displaying graphics\r\n",
        "* (Bonus: [cartopy](https://scitools.org.uk/cartopy/docs/latest/) for managing fancy map projections)\r\n",
        "\r\n",
        "\r\n"
      ]
    },
    {
      "cell_type": "markdown",
      "metadata": {
        "id": "Dp9hmri63zKx"
      },
      "source": [
        "**Using this notebook**: Remember to save your own copy! Once this note book has loaded, save a copy to your google grive or similar location. Otherwise, you will lose any code work you do when you reload. \r\n",
        "\r\n",
        "**Notebooks**: Notice that `netCDF4` and `cartopy` is not installed by default on `colab` so must be installed for each session.\r\n",
        "Takes a few minutes.\r\n"
      ]
    },
    {
      "cell_type": "code",
      "metadata": {
        "id": "LNmTXE3rB0ip"
      },
      "source": [
        "!pip install netCDF4\r\n",
        "!pip install cartopy"
      ],
      "execution_count": null,
      "outputs": []
    },
    {
      "cell_type": "code",
      "metadata": {
        "id": "K6oc1ZNe-lk5"
      },
      "source": [
        "#\r\n",
        "# Import the needed modules \r\n",
        "#\r\n",
        "\r\n",
        "import numpy as np\r\n",
        "import matplotlib.pyplot as plt\r\n",
        "import netCDF4 as nc\r\n",
        "import cartopy.crs as ccrs\r\n",
        "\r\n",
        "print(\"All modules needed have been imported. Ready to continue!\")"
      ],
      "execution_count": null,
      "outputs": []
    },
    {
      "cell_type": "markdown",
      "metadata": {
        "id": "cmwS_54hAXnP"
      },
      "source": [
        "## Obtaining the data\r\n",
        "\r\n",
        "NetCDF is a standard data format which is used widely for atmospehric and oceanic data sets. The data format is structured, and remarkably convinient once the format is appreciated. \r\n",
        "\r\n",
        "Data sets have dimensions (number of latitude, number of longitudes) and variable (temperature). Some variables descrive the coordinates (i.e., longitudes and latitudes).\r\n"
      ]
    },
    {
      "cell_type": "code",
      "metadata": {
        "id": "Gr2EJuWtMfqZ"
      },
      "source": [
        "# Download a data file from github, if it doesn't exist\r\n",
        "!test ! -f ERA5_pr_2021-01-01.nc && wget 'https://raw.github.com/davidnoone/GEOPHYS_NOTEBOOKS/main/data/ERA5_pr_2021-01-01.nc'"
      ],
      "execution_count": null,
      "outputs": []
    },
    {
      "cell_type": "code",
      "metadata": {
        "id": "voKwe5JBAXDe"
      },
      "source": [
        "# Code example to read data from a netcdf file. \r\n",
        "# Some knowledge of the file structure and vaiables names in the file\r\n",
        "# are needed. (They are ways to get this from within python)\r\n",
        "\r\n",
        "# Set a filename: This is the file we just downloaded. \r\n",
        "filename = \"ERA5_pr_2021-01-01.nc\"\r\n",
        "\r\n",
        "# Open the netcdf file\r\n",
        "ds = nc.Dataset(filename,'r')\r\n",
        "\r\n",
        "# Read the coodinate data\r\n",
        "lons = ds.variables[\"longitude\"][:]\r\n",
        "lats = ds.variables[\"latitude\"][:]\r\n",
        "levs = ds.variables[\"level\"][:]\r\n",
        "\r\n",
        "nlon = len(lons)\r\n",
        "nlat = len(lats)\r\n",
        "\r\n",
        "# Read the temperature and wind data\r\n",
        "k = 6         # choose which pressure level to read\r\n",
        "print('Reading data at pressure:',levs[k])\r\n",
        "temp = ds.variables[\"t\"][0,k,:,:]\r\n",
        "uwnd = ds.variables[\"u\"][0,k,:,:]\r\n",
        "vwnd = ds.variables[\"v\"][0,k,:,:]\r\n",
        "\r\n",
        "# It is good manners to close the file\r\n",
        "ds.close()\r\n",
        "\r\n",
        "print(\"Finished reading netcdf file.\")\r\n"
      ],
      "execution_count": null,
      "outputs": []
    },
    {
      "cell_type": "markdown",
      "metadata": {
        "id": "OrFpcqrwDvmj"
      },
      "source": [
        "# Check the data\r\n",
        "\r\n",
        "Convince yourself that the latitudes and longitudes were read in correctly. Print our their values to the screeed.\r\n",
        "(You could do this with temperature as well, but it wil be many many values).\r\n"
      ]
    },
    {
      "cell_type": "code",
      "metadata": {
        "id": "R5LTeNZ1EAAB"
      },
      "source": [
        "# Print the dimensions to the screen\r\n",
        "print(\"Number of longitudes: nlon=\", nlon)\r\n",
        "print(\"Number of latitudes : nlat=\", nlat)\r\n",
        "\r\n",
        "# Print the latitude and longitude values\r\n",
        "\r\n",
        "\r\n"
      ],
      "execution_count": null,
      "outputs": []
    },
    {
      "cell_type": "markdown",
      "metadata": {
        "id": "8MtsO4t6yS4N"
      },
      "source": [
        "##Construct a map of temperature\r\n",
        "\r\n",
        "To convince yourself that the data is good, and get a view of the atmospheric conditions, construct a contour map of the data showing the temperature. We're using matplotlib to do the plotting. \r\n",
        "\r\n",
        "For geophysical data, we also need to set up a map projection. The easiest map projection is cylindrical equidistant: treating latitude and longitude as cartesian coordinates. This works find for many instances, but does not work well near the poles. \r\n",
        "\r\n",
        "As a bonus, you might try to overlay the wind data as vectors do visualize the airflow. Do do this you can use the quiver function.\r\n",
        "\r\n"
      ]
    },
    {
      "cell_type": "code",
      "metadata": {
        "id": "lZ86t6THEPwO"
      },
      "source": [
        "# Construct a map of the temperature data\r\n",
        "#c = plt.contourf(lons,lats,temp)\r\n",
        "\r\n",
        "# Try this to get vectors showing the streamlines\r\n",
        "#c = plt.quiver(lons,lats,uwind,vwind)\r\n",
        "c.show()\r\n",
        "\r\n"
      ],
      "execution_count": null,
      "outputs": []
    },
    {
      "cell_type": "markdown",
      "metadata": {
        "id": "tFFmUUMkumvb"
      },
      "source": [
        "##Spherical coordinates\r\n",
        "Notice the latitudes and longidtude spacing is constant. \r\n",
        "Anticipating what is coming below, we need to be mindful of the conversion between latitude and longitude to distances measured in meteres. \r\n",
        "\r\n",
        "*Calculate the distance between data points in metres.* \r\n",
        "Take care wth the geometry! In spheical coordinates while the distance between each latitude remains the same at each latitude, the distance between longitude points gets closer together toward the poles, and infact is exactly zero at the poles!\r\n",
        "\r\n",
        "Some triganometry will be needed. Also, you will need to know te radius o fte earth $a = 6371000 m$.\r\n"
      ]
    },
    {
      "cell_type": "markdown",
      "metadata": {
        "id": "pnEPyVEOvzHT"
      },
      "source": [
        "\r\n"
      ]
    },
    {
      "cell_type": "code",
      "metadata": {
        "id": "QGeQ2k1KwvqE"
      },
      "source": [
        "# Calulate the latitude and longitude grid spacing in units of metres\r\n",
        "\r\n",
        "rearth = 6371000.                     # radius of the earth in metres\r\n",
        "#coslat = np.cos(np.radians(lats))    # [HINT: cosine of latitude might be helpful]\r\n",
        "\r\n",
        "dely = [Your code goes here]          # a constant value\r\n",
        "delx = np.zeros(nlat)                 # depends on latitude"
      ],
      "execution_count": null,
      "outputs": []
    },
    {
      "cell_type": "markdown",
      "metadata": {
        "id": "Vad7sEJ7EZaD"
      },
      "source": [
        "#Finite differences\r\n",
        "\r\n",
        "The continuous derivative can be estimated as a finite approxmation using local \"slopes\". Consider the gridded data with values given by positions *i*: $ T_i = T(x_i)$.  The derivative at position *x_i* is then:\r\n",
        "\r\n",
        "\r\n",
        "$$\r\n",
        "  \\frac{\\partial T}{\\partial x} \\approx \r\n",
        "             \\frac{ T_{i+1} - T_{i-1} }{2 \\Delta x} \r\n",
        "$$\r\n",
        "\r\n",
        "Notice that the gradient is \"centered\" on the interval between position $x_{i-1} and x_{i+1}$. This will be a problem at the ends of a domain, or in the case of time derivatives, where the \"plus\" values are not known. In that case a *one sided* estimate is needed. In the case of time with index $n$, we have \r\n",
        "\r\n",
        "$$\r\n",
        "  \\frac{\\partial T}{\\partial t} \\approx\r\n",
        "       \\frac{ T_{n+1} - T_{n} }{\\Delta t}  \r\n",
        "$$\r\n",
        "\r\n",
        "\r\n",
        "\r\n",
        "Construct the temperature tendency:\r\n",
        "First, caluclate the gradient in T in each of the directions X and Y.\r\n",
        "Then multiply by velocity to get the tendency. \r\n",
        "\r\n",
        "Note that it should have units of K/sec, which we might expect to be a small number. Expecting the temperature change to occure over 6 hours, multiple by $\\Delta$t of 6 hours (in units of seconds). \r\n",
        "\r\n",
        "If we wanted to go further to make a 6 hour forecast, we could again use the finite difference method to make the prediction!\r\n",
        "\r\n",
        "$$\r\n",
        " T(time+6 hours) = T(now) + \\Delta T \\frac{\\partial T}{\\partial t}\r\n",
        "$$\r\n",
        "\r\n",
        "\r\n",
        "\r\n"
      ]
    },
    {
      "cell_type": "code",
      "metadata": {
        "id": "Hii6N7IiFOfi"
      },
      "source": [
        "# Constrct the X and Y gradients\r\n",
        "\r\n",
        "dTdx = [Your code goes here]\r\n",
        "\r\n",
        "dTdy = [Your code goes here]\r\n",
        "\r\n",
        "# Form the temperature time derivative (\"tendency\")\r\n",
        "\r\n",
        "dTdt = [Your code goes here]"
      ],
      "execution_count": null,
      "outputs": []
    },
    {
      "cell_type": "markdown",
      "metadata": {
        "id": "IJVFoGQv8Za8"
      },
      "source": [
        "Final step - make a plot of the temperature change!"
      ]
    },
    {
      "cell_type": "code",
      "metadata": {
        "id": "E8EBzXjdtim_"
      },
      "source": [
        "#\r\n",
        "# Make a contour map of forecast temperature CHANGE in units of K\r\n",
        "#\r\n",
        "\r\n",
        "dtime = 6*60*60       # 6 hours, in units of seconds\r\n",
        "\r\n",
        "\r\n",
        "[Your code goes here]\r\n",
        "\r\n",
        "#c.show()"
      ],
      "execution_count": null,
      "outputs": []
    },
    {
      "cell_type": "markdown",
      "metadata": {
        "id": "HuRfDb_65Z9k"
      },
      "source": [
        "##Outcome\r\n",
        "\r\n",
        "Being able to obtain gridded datasets, visualize fields and manipulate the data is a fundemental activity in geophsyical fluids analysis. Having completed this notebook task, you've accomplished many essential building blocks on which more complex analysis can rely. \r\n",
        "\r\n",
        "All the of the modules used here have greater power than what we've looked at more details can be found at:\r\n",
        "\r\n",
        "* [Numpy manual](https://numpy.org/doc/stable/user/)\r\n",
        "* [NetCDF4 documentation](https://unidata.github.io/netcdf4-python/ )\r\n",
        "* [Matplotlib](https://matplotlib.org/3.1.1/index.html)\r\n",
        "* [Cartopy manual](https://scitools.org.uk/cartopy/docs/latest/)\r\n",
        "\r\n",
        "There are many examples on these pages, which offers an excellent resources for more complicated coding.\r\n",
        "\r\n"
      ]
    },
    {
      "cell_type": "code",
      "metadata": {
        "id": "KOx26sxlg2i3"
      },
      "source": [
        "# Clean up data file\r\n",
        "!rm ERA5_pr_2021-01-01.nc"
      ],
      "execution_count": 79,
      "outputs": []
    }
  ]
}