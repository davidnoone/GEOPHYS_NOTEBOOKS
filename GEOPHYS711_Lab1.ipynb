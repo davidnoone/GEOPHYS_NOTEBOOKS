{
  "nbformat": 4,
  "nbformat_minor": 0,
  "metadata": {
    "colab": {
      "name": "GEOPHYS711 Lab1.ipynb",
      "provenance": [],
      "collapsed_sections": [],
      "authorship_tag": "ABX9TyNOe0a9l5LV8dx0RlI47kp3",
      "include_colab_link": true
    },
    "kernelspec": {
      "name": "python3",
      "display_name": "Python 3"
    }
  },
  "cells": [
    {
      "cell_type": "markdown",
      "metadata": {
        "id": "view-in-github",
        "colab_type": "text"
      },
      "source": [
        "<a href=\"https://colab.research.google.com/github/davidnoone/GEOPHYS_NOTEBOOKS/blob/main/GEOPHYS711_Lab1.ipynb\" target=\"_parent\"><img src=\"https://colab.research.google.com/assets/colab-badge.svg\" alt=\"Open In Colab\"/></a>"
      ]
    },
    {
      "cell_type": "markdown",
      "metadata": {
        "id": "LNM1bFgd8h0J"
      },
      "source": [
        "## GEOPHYS711 Lab 1\r\n",
        "\r\n",
        "We are going to analyse a global meteorological dataset for the day of 20 February 2018 at 00:00 UTC. The data is from an atmospehric reanalysis (which is a blended product of all observations available and modelling), produced by the ECMWF (European Centre for Medium-ranged Weather Forecasts) as part of the 5th Reanalysis project (thus called, “ERA5 data”). Like a lot of meteorological datasets, the data is provided on pressure levels rather than altitude. The horizontal resolution is 1 degrees in both longitude and latitude.\r\n",
        "\r\n",
        "Information on the ERA5 web site, and access to raw data can be found at \r\n",
        "https://www.ecmwf.int/en/forecasts/datasets/reanalysis-datasets/era5\r\n",
        "And raw data can be obtained via a web portal:\r\n",
        "https://cds.climate.copernicus.eu/#!/search?text=era5&type=dataset\r\n",
        "\r\n",
        "Data for this lab have been collected into two NetCDF files. One containing pressure level data\r\n",
        "ERA5_pr_2018-02-18.nc and one containing surface level data ERA5_sfc_2018-02-18.nc. There is a third file containing the orography and land sea mask. ERA5_orography.nc\r\n"
      ]
    },
    {
      "cell_type": "code",
      "metadata": {
        "id": "SkXxVQnh79kX"
      },
      "source": [
        "# The following initalizes the colab environment and gets the datafiles from github\r\n",
        "!pip install netCDF4\r\n",
        "!pip install cartopy\r\n",
        "!pip uninstall shapely -y\r\n",
        "!pip install shapely --no-binary shapely\r\n",
        "\r\n",
        "!test ! -f ERA5_orography.nc && wget 'https://raw.github.com/davidnoone/GEOPHYS_NOTEBOOKS/main/data/ERA5_orography.nc'\r\n",
        "!test ! -f ERA5_pr_2018-02-18.nc && wget 'https://raw.github.com/davidnoone/GEOPHYS_NOTEBOOKS/main/data/ERA5_pr_2018-02-18.nc'\r\n",
        "!test ! -f ERA5_sfc_2018-02-18.nc && wget 'https://raw.github.com/davidnoone/GEOPHYS_NOTEBOOKS/main/data/ERA5_sfc_2018-02-18.nc'\r\n"
      ],
      "execution_count": null,
      "outputs": []
    },
    {
      "cell_type": "code",
      "metadata": {
        "id": "oS9tE60ZNZrt"
      },
      "source": [
        "# Import the needed modules\r\n",
        "import numpy as np\r\n",
        "import matplotlib\r\n",
        "import matplotlib.pyplot as plt\r\n",
        "import netCDF4 as nc\r\n",
        "import cartopy.crs as ccrs\r\n",
        "\r\n",
        "print(\"All modules needed have been imported. Ready to continue!\")"
      ],
      "execution_count": null,
      "outputs": []
    },
    {
      "cell_type": "markdown",
      "metadata": {
        "id": "p2SgyHKVQ4Wb"
      },
      "source": [
        "#Objectives\r\n",
        "\r\n",
        "Descrbe what you're aiming to accomplish with this task (Hint: after completing the task, you may find you well placed to state the aim with hindsight!)"
      ]
    },
    {
      "cell_type": "markdown",
      "metadata": {
        "id": "ckUUNcua84HP"
      },
      "source": [
        "#Methods\r\n",
        "1.\tWhat is an atmospheric reanalaysis?\r\n",
        "2.\tWhat is the native horizontal and vertical resolution of of the weather forecast model used by ECMWF for the ERA5 project? \r\n",
        "3.\tWhat type of data is used within the ERA5?\r\n",
        "4.\tMake a listing (table) of the variables within the netcdf files, containing their name, and units. *Hint* Some of this information can be obtained from the header, which can be seen using \"ncdump -h\". Here is an example of [ncdump functionality in python](http://schubert.atmos.colostate.edu/~cslocum/netcdf_example.html). \r\n",
        "\r\n",
        "Be sure to quote the NZ local time for this dataset. (Be careful with daylight savings!)\r\n"
      ]
    },
    {
      "cell_type": "markdown",
      "metadata": {
        "id": "x9WtlmGnQjU9"
      },
      "source": [
        "##Question 1\r\n",
        "Make sure that you can read the files and make a basic plot: plot a global map of the mean sea level pressure (shading), overlay horizontal‐wind vectors, and add the contours of continental topography. \r\n",
        "\r\n",
        "Make sure that the aspect ratio is acceptable, that there is a scale for the wind vectors and color scale for the pressure. Use this plot as a template for the following questions. "
      ]
    },
    {
      "cell_type": "code",
      "metadata": {
        "id": "y6yy6U019E9d"
      },
      "source": [
        "#"
      ],
      "execution_count": null,
      "outputs": []
    },
    {
      "cell_type": "markdown",
      "metadata": {
        "id": "JnNcT3MrRQ23"
      },
      "source": [
        "##Question 2\r\n",
        "The hydrostatic height is the altitude that equals the geopotential height at the surface and follows the hydrostatic equation. Derive the integral equation giving the hydrostatic height zh at a given pressure level as a function of surface pressure ps, temperature T, acceleration of gravity g, and the gas constant for dry air Ra. \r\n",
        "\tFor now, you may neglect the effect of humidity .\r\n",
        "\r\n",
        "*Any math can go here. As an example, Newton said,*\r\n",
        "\r\n",
        "$$\r\n",
        "  \\frac{d v}{dt} = \\frac{F}{m}\r\n",
        "$$\r\n",
        "\r\n",
        "##Quetsion 3\r\n",
        "Using your equation, compute and plot the hydrostatic height zh at 500 hPa over the Pacific ocean (130°E‐70°W, 80°S‐80°N). How does it compare to the height z from the dataset? Plot  the difference. Does atmospheric large‐scale circulation alter the pressure field significantly compared to the state of rest?\r\n"
      ]
    },
    {
      "cell_type": "code",
      "metadata": {
        "id": "MwTPWiOURKqT"
      },
      "source": [
        ""
      ],
      "execution_count": null,
      "outputs": []
    },
    {
      "cell_type": "markdown",
      "metadata": {
        "id": "Iy1b_zTPRRj3"
      },
      "source": [
        "##Question 4\r\n",
        "Describe the meteorological conditions in New Zealand that day? You may need to make reference to several different graphs/maps.."
      ]
    },
    {
      "cell_type": "code",
      "metadata": {
        "id": "FaFq_oGRRSP1"
      },
      "source": [
        ""
      ],
      "execution_count": null,
      "outputs": []
    },
    {
      "cell_type": "markdown",
      "metadata": {
        "id": "pjMNZx2XRSuf"
      },
      "source": [
        "##Quetsion 5.\t\r\n",
        "\r\n",
        "Plot the vertical component of the vorticity at 850 hPa and at 200 hPa around New Zealand (65°S‐25°S, 150°E‐170°W). Plot the divergence of the horizontal wind for the same domain and altitudes. What type of circulation was occurring?\r\n",
        "\r\n",
        "\r\n",
        "\r\n"
      ]
    },
    {
      "cell_type": "markdown",
      "metadata": {
        "id": "XdP60IriXHpn"
      },
      "source": [
        "##Question 6\r\n",
        "\r\n",
        "Is it reasonable to define a streamfunction at 850 hPa in this region? Derive the Poisson equation giving the streamfunction. Research and explain a method to solve this equation  numerically. Describe a numerical scheme that could do this, and perform the calculation so as to plot the stream function. \r\n",
        "\r\n",
        "\r\n",
        "\r\n",
        "$$\r\n",
        "\r\n",
        "$$\r\n",
        "\r\n",
        "## Question 7\r\n",
        "Compare the streamfunction to a contour map of geopotential height at 850 hPa. Do there appear similar/different? (explain your observation).\r\n"
      ]
    },
    {
      "cell_type": "code",
      "metadata": {
        "id": "VipBWv9DWuyv"
      },
      "source": [
        ""
      ],
      "execution_count": null,
      "outputs": []
    },
    {
      "cell_type": "markdown",
      "metadata": {
        "id": "xQoh6TqrR_6l"
      },
      "source": [
        "##Question 8.\t\r\n",
        "\r\n",
        "Plot the geopotential height and horizontal‐wind vectors at 850 hPa over the North Atlantic (10°N‐70°N, 100°W‐5°W). Overlay streamlines of the horizontal flow. What do you observe? Plot the same in the New Zealand region (850 hPa, 65°S‐25°S, 150°E‐170°W). Do you make the same observation?"
      ]
    },
    {
      "cell_type": "code",
      "metadata": {
        "id": "3K12tAREWv-O"
      },
      "source": [
        ""
      ],
      "execution_count": null,
      "outputs": []
    },
    {
      "cell_type": "markdown",
      "metadata": {
        "id": "OkHPjABnWxGh"
      },
      "source": [
        "#Summary\r\n",
        "\r\n",
        "Add any key final remarks here.\r\n"
      ]
    }
  ]
}