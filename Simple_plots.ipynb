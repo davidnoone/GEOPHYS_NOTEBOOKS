{
  "nbformat": 4,
  "nbformat_minor": 0,
  "metadata": {
    "colab": {
      "name": "01_Advection.ipynb",
      "provenance": [],
      "include_colab_link": true
    },
    "kernelspec": {
      "name": "python3",
      "display_name": "Python 3"
    }
  },
  "cells": [
    {
      "cell_type": "markdown",
      "metadata": {
        "id": "view-in-github",
        "colab_type": "text"
      },
      "source": [
        "<a href=\"https://colab.research.google.com/github/davidnoone/GEOPHYS_NOTEBOOKS/blob/main/Simple_plots.ipynb\" target=\"_parent\"><img src=\"https://colab.research.google.com/assets/colab-badge.svg\" alt=\"Open In Colab\"/></a>"
      ]
    },
    {
      "cell_type": "markdown",
      "metadata": {
        "id": "WkaQseeG-pQz"
      },
      "source": [
        "# Advection, mapping and finite differences\n",
        "\n",
        "The transport of fluid (atmosphere or ocean) properties by advection is fundemental to a variety of complex behaviours. In general it is non-linear, and therefore requires special consideration.\n",
        "\n",
        "In this example we will evaluate the advection in a 2-dimensional case, to make a prediction for temperature changes. The advection equation is:\n",
        "\n",
        "$$\n",
        "  \\frac{\\partial T}{\\partial t} = \n",
        "       -u \\frac{\\partial T}{\\partial x}\n",
        "        - v \\frac{\\partial T}{\\partial y}\n",
        "$$\n",
        "\n",
        "We wish to evaluate the temperature change over a 6 hour period. To do so,  the space and time derivarives can be approximated by a \"finite difference\" approach. This notebook develops the skills needed for this and similar data manipulations.\n",
        "\n",
        "**Objective:** Create a map of temperature tendency.\n",
        "\n",
        "**Learning goals:**\n",
        " * Utilize notebook framework\n",
        " * Read data stored in netcdf format\n",
        " * Apply finite difference methods\n",
        " * Produce a contour map\n",
        "\n",
        "**Python modules**\n",
        "* [numpy](https://numpy.org/doc/stable/user/) for manipulating arrays of gridded data\n",
        "* [netCDF4](https://unidata.github.io/netcdf4-python/) module for reading NetCDF files\n",
        "* [Matplotlib](https://matplotlib.org/3.1.1/index.html) library for displaying graphics\n",
        "* (Bonus: [cartopy](https://scitools.org.uk/cartopy/docs/latest/) for managing fancy map projections)\n",
        "\n",
        "\n"
      ]
    },
    {
      "cell_type": "markdown",
      "metadata": {
        "id": "Dp9hmri63zKx"
      },
      "source": [
        "**Using this notebook**: Remember to save your own copy! Once this note book has loaded, save a copy to your google grive or similar location. Otherwise, you will lose any code work you do when you reload. \n",
        "\n",
        "**Notebooks**: Notice that `netCDF4` and `cartopy` is not installed by default on `colab` so must be installed for each session.\n",
        "Takes a few moments.\n"
      ]
    },
    {
      "cell_type": "code",
      "metadata": {
        "id": "LNmTXE3rB0ip"
      },
      "source": [
        "!pip install netCDF4\n",
        "!pip install cartopy\n",
        "#!pip install --no-binary shapely shapely --force\n",
        "!pip uninstall shapely -y\n",
        "!pip install shapely --no-binary shapely"
      ],
      "execution_count": null,
      "outputs": []
    },
    {
      "cell_type": "code",
      "metadata": {
        "id": "K6oc1ZNe-lk5"
      },
      "source": [
        "#\n",
        "# Import the needed modules \n",
        "#\n",
        "\n",
        "import numpy as np\n",
        "import matplotlib\n",
        "import matplotlib.pyplot as plt\n",
        "import netCDF4 as nc\n",
        "import cartopy.crs as ccrs\n",
        "\n",
        "\n",
        "print(\"All modules needed have been imported. Ready to continue!\")"
      ],
      "execution_count": null,
      "outputs": []
    },
    {
      "cell_type": "markdown",
      "metadata": {
        "id": "cmwS_54hAXnP"
      },
      "source": [
        "## Obtaining the data\n",
        "\n",
        "NetCDF is a standard data format which is used widely for atmospehric and oceanic data sets. The data format is structured, and remarkably convienient once youget te hang of it. \n",
        "\n",
        "Data sets have dimensions (number of latitude, number of longitudes) and variables (temperature). Some variables describe the coordinates (i.e., longitude and latitude values).\n"
      ]
    },
    {
      "cell_type": "code",
      "metadata": {
        "id": "Gr2EJuWtMfqZ"
      },
      "source": [
        "# Download a data file from github, if it doesn't exist\n",
        "!test ! -f ERA5_pr_2021-01-01.nc && wget 'https://raw.github.com/davidnoone/GEOPHYS_NOTEBOOKS/main/data/ERA5_pr_2021-01-01.nc'"
      ],
      "execution_count": null,
      "outputs": []
    },
    {
      "cell_type": "code",
      "metadata": {
        "id": "voKwe5JBAXDe"
      },
      "source": [
        "# Code example to read data from a netcdf file.\n",
        "# Some knowledge of the file structure and vaiables names in the file\n",
        "# are needed. (They are ways to get this from within python)\n",
        "\n",
        "# Set a filename: This is the file we just downloaded. \n",
        "filename = \"ERA5_pr_2021-01-01.nc\"\n",
        "\n",
        "# Open the netcdf file\n",
        "ds = nc.Dataset(filename,'r')\n",
        "\n",
        "# Read the coodinate data\n",
        "lons = ds.variables[\"longitude\"][:]\n",
        "lats = ds.variables[\"latitude\"][:]\n",
        "levs = ds.variables[\"level\"][:]\n",
        "\n",
        "nlon = len(lons)\n",
        "nlat = len(lats)\n",
        "\n",
        "# Read the temperature and wind data\n",
        "k = 6         # choose which pressure level to read\n",
        "print('Reading data at pressure:',levs[k])\n",
        "temp = ds.variables[\"t\"][0,k,:,:]\n",
        "uwnd = ds.variables[\"u\"][0,k,:,:]\n",
        "vwnd = ds.variables[\"v\"][0,k,:,:]\n",
        "\n",
        "# It is good manners to close the file\n",
        "ds.close()\n",
        "\n",
        "print(\"Finished reading netcdf file.\")\n"
      ],
      "execution_count": null,
      "outputs": []
    },
    {
      "cell_type": "markdown",
      "metadata": {
        "id": "OrFpcqrwDvmj"
      },
      "source": [
        "# Check the data\n",
        "\n",
        "Convince yourself that the latitudes and longitudes were read in correctly. Print our their values to the screeed.\n",
        "(You could do this with temperature as well, but it wil be many many values).\n"
      ]
    },
    {
      "cell_type": "code",
      "metadata": {
        "id": "R5LTeNZ1EAAB"
      },
      "source": [
        "# Print the dimensions to the screen\n",
        "print(\"Number of longitudes: nlon=\", nlon)\n",
        "print(\"Number of latitudes : nlat=\", nlat)\n",
        "\n",
        "# Print the latitude and longitude \n",
        "\n",
        "# [Your code goes here]\n",
        "\n",
        "\n"
      ],
      "execution_count": null,
      "outputs": []
    },
    {
      "cell_type": "markdown",
      "metadata": {
        "id": "8MtsO4t6yS4N"
      },
      "source": [
        "##Construct a map of temperature\n",
        "\n",
        "To convince yourself that the data is good, and get a view of the atmospheric conditions, construct a contour map of the data showing the temperature. We're using matplotlib to do the plotting. \n",
        "\n",
        "\n",
        "For geophysical data, we also need to set up a map projection. The easiest map projection is cylindrical equidistant: treating latitude and longitude as cartesian coordinates. This works find for many instances, but does not work well near the poles. \n",
        "\n",
        "As a bonus, you might try to overlay the wind data as vectors do visualize the airflow. Do do this you can use the quiver function.\n",
        "\n",
        "Also see documentation for matplotlib functions:\n",
        "* [contour](https://matplotlib.org/stable/api/_as_gen/matplotlib.pyplot.contour.html) \n",
        "* [contourf](https://matplotlib.org/stable/api/_as_gen/matplotlib.pyplot.contourf.html)\n",
        "*[quiver](https://matplotlib.org/stable/api/_as_gen/matplotlib.pyplot.quiver.html)\n",
        "* [colorbar](https://matplotlib.org/stable/api/_as_gen/matplotlib.pyplot.colorbar.html)\n",
        "\n",
        "A [good example](https://scitools.org.uk/cartopy/docs/v0.13/matplotlib/advanced_plotting.html) is on the cartopy documentation. You can limit the view with the \"extent\" keyword to give latitude and longitude bounds. Try limiting the map to just a local reagion.\n"
      ]
    },
    {
      "cell_type": "code",
      "metadata": {
        "id": "lZ86t6THEPwO"
      },
      "source": [
        "# Construct a map of the temperature data\n",
        "\n",
        "## Simpliest possible case\n",
        "#p = plt.contourf(lons, lats, temp)\n",
        "\n",
        "## Or here, with a map projection\n",
        "#ax = plt.axes(projection=ccrs.PlateCarree())\n",
        "#p = plt.contourf(lons, lats, temp,60, transform=ccrs.PlateCarree())\n",
        "#ax.coastlines()\n",
        "\n",
        "\n",
        "## Try this to get vectors showing the streamlines\n",
        "#v = ax.quiver(lons, lats, uwnd, vwnd, transform=ccrs.PlateCarree())\n",
        "\n"
      ],
      "execution_count": null,
      "outputs": []
    },
    {
      "cell_type": "markdown",
      "metadata": {
        "id": "tFFmUUMkumvb"
      },
      "source": [
        "##Spherical coordinates\n",
        "Notice the latitudes and longidtude spacing is constant. \n",
        "Anticipating what is coming below, we need to be mindful of the conversion between latitude and longitude to distances measured in meteres. \n",
        "\n",
        "*Calculate the distance between data points in metres.* \n",
        "Take care wth the geometry! In spheical coordinates while the distance between each latitude remains the same at each latitude, the distance between longitude points gets closer together toward the poles, and infact is exactly zero at the poles!\n",
        "\n",
        "Some triganometry will be needed. Also, you will need to know te radius o fte earth $a = 6371000 m$.\n"
      ]
    },
    {
      "cell_type": "code",
      "metadata": {
        "id": "QGeQ2k1KwvqE"
      },
      "source": [
        "# Calulate the latitude and longitude grid spacing in units of metres\n",
        "\n",
        "rearth = 6371000.                     # radius of the earth in metres\n",
        "#coslat = np.cos(np.radians(lats))    # [HINT: cosine of latitude might be helpful]\n",
        "\n",
        "dely = 0#[Your code goes here]        # a constant value\n",
        "delx = np.zeros(nlat)                 # depends on latitude"
      ],
      "execution_count": null,
      "outputs": []
    },
    {
      "cell_type": "markdown",
      "metadata": {
        "id": "Vad7sEJ7EZaD"
      },
      "source": [
        "#Finite differences\n",
        "\n",
        "The continuous derivative can be estimated as a finite approxmation using local \"slopes\". Consider the gridded data with values given by positions *i*: $ T_i = T(x_i)$.  The derivative at position *x_i* is then:\n",
        "\n",
        "\n",
        "$$\n",
        "  \\frac{\\partial T}{\\partial x} \\approx \n",
        "             \\frac{ T_{i+1} - T_{i-1} }{2 \\Delta x} \n",
        "$$\n",
        "\n",
        "Notice that the gradient is \"centered\" on the interval between position $x_{i-1}$ and $x_{i+1}$. This will be a problem at the ends of a domain, or in the case of time derivatives, where the \"plus\" values are not known. In that case a *one sided* estimate is needed. In the case of time with index $n$, we have \n",
        "\n",
        "$$\n",
        "  \\frac{\\partial T}{\\partial t} \\approx\n",
        "       \\frac{ T_{n+1} - T_{n} }{\\Delta t}  \n",
        "$$\n",
        "\n",
        "\n",
        "\n",
        "Construct the temperature tendency:\n",
        "First, caluclate the gradient in T in each of the directions X and Y.\n",
        "Then multiply by velocity to get the tendency. Watch out for the minus sign in the advection equation! \n",
        "\n",
        "Note that it should have units of K/sec, which we might expect to be a small number. Expecting the temperature change to occure over 6 hours, multiple by $\\Delta$t of 6 hours (in units of seconds). \n",
        "\n",
        "If we wanted to go further to make a 6 hour forecast, we could again use the finite difference method to make the prediction!\n",
        "\n",
        "$$\n",
        " T(time+6 hours) = T(now) + \\Delta T \\frac{\\partial T}{\\partial t}\n",
        "$$\n",
        "\n",
        "\n",
        "\n"
      ]
    },
    {
      "cell_type": "code",
      "metadata": {
        "id": "Hii6N7IiFOfi"
      },
      "source": [
        "# Constrct the X and Y gradients\n",
        "\n",
        "dTdx = 0#[Your code goes here]\n",
        "\n",
        "dTdy = 0#[Your code goes here]\n",
        "\n",
        "# Form the temperature time derivative (\"tendency\")\n",
        "\n",
        "dTdt = 0#[Your code goes here]"
      ],
      "execution_count": null,
      "outputs": []
    },
    {
      "cell_type": "markdown",
      "metadata": {
        "id": "IJVFoGQv8Za8"
      },
      "source": [
        "Final step - make a plot of the temperature change!"
      ]
    },
    {
      "cell_type": "code",
      "metadata": {
        "id": "E8EBzXjdtim_"
      },
      "source": [
        "#\n",
        "# Make a contour map of forecast temperature CHANGE in units of K\n",
        "#\n",
        "\n",
        "dtime = 6*60*60       # 6 hours, in units of seconds\n",
        "\n",
        "\n",
        "#[Your code goes here]\n",
        "\n",
        "#c.show()"
      ],
      "execution_count": null,
      "outputs": []
    },
    {
      "cell_type": "markdown",
      "metadata": {
        "id": "HuRfDb_65Z9k"
      },
      "source": [
        "##Outcome\n",
        "\n",
        "Being able to obtain gridded datasets, visualize fields and manipulate the data is a fundemental activity in geophsyical fluids analysis. Having completed this notebook task, you've developed some essential building blocks on which more complex analysis can rely. \n",
        "\n",
        "All the of the modules used here have greater power than what we've looked at more details can be found at:\n",
        "\n",
        "* [Numpy manual](https://numpy.org/doc/stable/user/)\n",
        "* [NetCDF4 documentation](https://unidata.github.io/netcdf4-python/ )\n",
        "* [Matplotlib](https://matplotlib.org/3.1.1/index.html)\n",
        "* [Cartopy manual](https://scitools.org.uk/cartopy/docs/latest/)\n",
        "\n",
        "There are many examples on these pages, which is an excellent resource for more complicated coding.\n",
        "\n",
        "\n"
      ]
    },
    {
      "cell_type": "code",
      "metadata": {
        "id": "KOx26sxlg2i3"
      },
      "source": [
        "# Clean up data file\n",
        "!rm ERA5_pr_2021-01-01.nc\n",
        "print('Finished')"
      ],
      "execution_count": null,
      "outputs": []
    }
  ]
}